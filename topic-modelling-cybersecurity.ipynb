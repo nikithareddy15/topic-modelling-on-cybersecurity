{
 "cells": [
  {
   "cell_type": "markdown",
   "metadata": {},
   "source": [
    "\n",
    "    \n",
    "<b> Domain: </b> Cyber Security\n",
    "\n",
    "Cybersecurity is the practice of protecting systems, networks, and programs from digital attacks. These cyberattacks are usually aimed at accessing, changing, or destroying sensitive information; extorting money from users; or interrupting normal business processes.Implementing effective cybersecurity measures is particularly challenging today because there are more devices than people, and attackers are becoming more innovative.\n",
    "With an increasing number of users, devices and programs in the modern enterprise, combined with the increased deluge of data (much of which is sensitive or confidential) the importance of cybersecurity continues to grow. The growing volume and sophistication of cyber attackers and attack techniques compound the problem even further.The cyber threat landscape and cybersecurity both change quickly, and this has been particularly true recently. Significant modifications in corporate business operations and IT architectures were prompted by the COVID-19 outbreak. Cyber threat actors have taken advantage of these changes, targeting their attacks toward vulnerabilities in remote access, cloud computing, and other solutions adopted as part of the new security reality.\n",
    "\n",
    "As the cyber threat landscape evolves, many corporate security teams are struggling to keep up with attacks that are growing more common and sophisticated. Threats such as ransomware infections, supply chain attacks, and multi-vector attacks are on the rise, and sophisticated attacks like the exploit of the Log4j vulnerability impact millions of companies, including Amazon, Cisco, and Tesla."
   ]
  },
  {
   "cell_type": "code",
   "execution_count": 2,
   "metadata": {},
   "outputs": [
    {
     "name": "stdout",
     "output_type": "stream",
     "text": [
      "Collecting spacy\n",
      "  Downloading spacy-3.4.4-cp39-cp39-win_amd64.whl (11.9 MB)\n",
      "     --------------------------------------- 11.9/11.9 MB 12.1 MB/s eta 0:00:00\n",
      "Collecting wasabi<1.1.0,>=0.9.1\n",
      "  Downloading wasabi-0.10.1-py3-none-any.whl (26 kB)\n",
      "Collecting pathy>=0.3.5\n",
      "  Downloading pathy-0.10.1-py3-none-any.whl (48 kB)\n",
      "     ---------------------------------------- 48.9/48.9 kB ? eta 0:00:00\n",
      "Collecting preshed<3.1.0,>=3.0.2\n",
      "  Downloading preshed-3.0.8-cp39-cp39-win_amd64.whl (96 kB)\n",
      "     ---------------------------------------- 96.8/96.8 kB 5.8 MB/s eta 0:00:00\n",
      "Collecting typer<0.8.0,>=0.3.0\n",
      "  Downloading typer-0.7.0-py3-none-any.whl (38 kB)\n",
      "Requirement already satisfied: packaging>=20.0 in c:\\users\\dell\\anaconda3\\lib\\site-packages (from spacy) (21.3)\n",
      "Collecting catalogue<2.1.0,>=2.0.6\n",
      "  Downloading catalogue-2.0.8-py3-none-any.whl (17 kB)\n",
      "Collecting murmurhash<1.1.0,>=0.28.0\n",
      "  Downloading murmurhash-1.0.9-cp39-cp39-win_amd64.whl (18 kB)\n",
      "Collecting spacy-loggers<2.0.0,>=1.0.0\n",
      "  Downloading spacy_loggers-1.0.4-py3-none-any.whl (11 kB)\n",
      "Collecting cymem<2.1.0,>=2.0.2\n",
      "  Downloading cymem-2.0.7-cp39-cp39-win_amd64.whl (30 kB)\n",
      "Requirement already satisfied: setuptools in c:\\users\\dell\\anaconda3\\lib\\site-packages (from spacy) (63.4.1)\n",
      "Requirement already satisfied: smart-open<7.0.0,>=5.2.1 in c:\\users\\dell\\anaconda3\\lib\\site-packages (from spacy) (5.2.1)\n",
      "Collecting langcodes<4.0.0,>=3.2.0\n",
      "  Downloading langcodes-3.3.0-py3-none-any.whl (181 kB)\n",
      "     -------------------------------------- 181.6/181.6 kB 5.5 MB/s eta 0:00:00\n",
      "Requirement already satisfied: tqdm<5.0.0,>=4.38.0 in c:\\users\\dell\\anaconda3\\lib\\site-packages (from spacy) (4.64.1)\n",
      "Requirement already satisfied: jinja2 in c:\\users\\dell\\anaconda3\\lib\\site-packages (from spacy) (2.11.3)\n",
      "Requirement already satisfied: requests<3.0.0,>=2.13.0 in c:\\users\\dell\\anaconda3\\lib\\site-packages (from spacy) (2.28.1)\n",
      "Collecting srsly<3.0.0,>=2.4.3\n",
      "  Downloading srsly-2.4.5-cp39-cp39-win_amd64.whl (481 kB)\n",
      "     -------------------------------------- 481.4/481.4 kB 7.5 MB/s eta 0:00:00\n",
      "Collecting spacy-legacy<3.1.0,>=3.0.10\n",
      "  Downloading spacy_legacy-3.0.10-py2.py3-none-any.whl (21 kB)\n",
      "Collecting pydantic!=1.8,!=1.8.1,<1.11.0,>=1.7.4\n",
      "  Downloading pydantic-1.10.2-cp39-cp39-win_amd64.whl (2.1 MB)\n",
      "     ---------------------------------------- 2.1/2.1 MB 11.4 MB/s eta 0:00:00\n",
      "Requirement already satisfied: numpy>=1.15.0 in c:\\users\\dell\\anaconda3\\lib\\site-packages (from spacy) (1.21.5)\n",
      "Collecting thinc<8.2.0,>=8.1.0\n",
      "  Downloading thinc-8.1.6-cp39-cp39-win_amd64.whl (1.3 MB)\n",
      "     ---------------------------------------- 1.3/1.3 MB 10.2 MB/s eta 0:00:00\n",
      "Requirement already satisfied: pyparsing!=3.0.5,>=2.0.2 in c:\\users\\dell\\anaconda3\\lib\\site-packages (from packaging>=20.0->spacy) (3.0.9)\n",
      "Requirement already satisfied: typing-extensions>=4.1.0 in c:\\users\\dell\\anaconda3\\lib\\site-packages (from pydantic!=1.8,!=1.8.1,<1.11.0,>=1.7.4->spacy) (4.3.0)\n",
      "Requirement already satisfied: charset-normalizer<3,>=2 in c:\\users\\dell\\anaconda3\\lib\\site-packages (from requests<3.0.0,>=2.13.0->spacy) (2.0.4)\n",
      "Requirement already satisfied: urllib3<1.27,>=1.21.1 in c:\\users\\dell\\anaconda3\\lib\\site-packages (from requests<3.0.0,>=2.13.0->spacy) (1.26.11)\n",
      "Requirement already satisfied: certifi>=2017.4.17 in c:\\users\\dell\\anaconda3\\lib\\site-packages (from requests<3.0.0,>=2.13.0->spacy) (2022.9.14)\n",
      "Requirement already satisfied: idna<4,>=2.5 in c:\\users\\dell\\anaconda3\\lib\\site-packages (from requests<3.0.0,>=2.13.0->spacy) (3.3)\n",
      "Collecting blis<0.8.0,>=0.7.8\n",
      "  Downloading blis-0.7.9-cp39-cp39-win_amd64.whl (7.0 MB)\n",
      "     ---------------------------------------- 7.0/7.0 MB 8.0 MB/s eta 0:00:00\n",
      "Collecting confection<1.0.0,>=0.0.1\n",
      "  Downloading confection-0.0.3-py3-none-any.whl (32 kB)\n",
      "Requirement already satisfied: colorama in c:\\users\\dell\\anaconda3\\lib\\site-packages (from tqdm<5.0.0,>=4.38.0->spacy) (0.4.5)\n",
      "Requirement already satisfied: click<9.0.0,>=7.1.1 in c:\\users\\dell\\anaconda3\\lib\\site-packages (from typer<0.8.0,>=0.3.0->spacy) (8.0.4)\n",
      "Requirement already satisfied: MarkupSafe>=0.23 in c:\\users\\dell\\anaconda3\\lib\\site-packages (from jinja2->spacy) (2.0.1)\n",
      "Installing collected packages: wasabi, cymem, spacy-loggers, spacy-legacy, pydantic, murmurhash, langcodes, catalogue, blis, typer, srsly, preshed, pathy, confection, thinc, spacy\n",
      "Successfully installed blis-0.7.9 catalogue-2.0.8 confection-0.0.3 cymem-2.0.7 langcodes-3.3.0 murmurhash-1.0.9 pathy-0.10.1 preshed-3.0.8 pydantic-1.10.2 spacy-3.4.4 spacy-legacy-3.0.10 spacy-loggers-1.0.4 srsly-2.4.5 thinc-8.1.6 typer-0.7.0 wasabi-0.10.1\n",
      "Note: you may need to restart the kernel to use updated packages.\n"
     ]
    }
   ],
   "source": [
    "pip install spacy"
   ]
  },
  {
   "cell_type": "code",
   "execution_count": 2,
   "metadata": {},
   "outputs": [
    {
     "name": "stdout",
     "output_type": "stream",
     "text": [
      "Collecting pyLDAvis\n",
      "  Downloading pyLDAvis-3.3.1.tar.gz (1.7 MB)\n",
      "     ---------------------------------------- 1.7/1.7 MB 3.1 MB/s eta 0:00:00\n",
      "  Installing build dependencies: started\n",
      "  Installing build dependencies: finished with status 'done'\n",
      "  Getting requirements to build wheel: started\n",
      "  Getting requirements to build wheel: finished with status 'done'\n",
      "  Installing backend dependencies: started\n",
      "  Installing backend dependencies: finished with status 'done'\n",
      "  Preparing metadata (pyproject.toml): started\n",
      "  Preparing metadata (pyproject.toml): finished with status 'done'\n",
      "Requirement already satisfied: future in c:\\users\\dell\\anaconda3\\lib\\site-packages (from pyLDAvis) (0.18.2)\n",
      "Requirement already satisfied: gensim in c:\\users\\dell\\anaconda3\\lib\\site-packages (from pyLDAvis) (4.1.2)\n",
      "Requirement already satisfied: numpy>=1.20.0 in c:\\users\\dell\\anaconda3\\lib\\site-packages (from pyLDAvis) (1.21.5)\n",
      "Requirement already satisfied: numexpr in c:\\users\\dell\\anaconda3\\lib\\site-packages (from pyLDAvis) (2.8.3)\n",
      "Collecting funcy\n",
      "  Downloading funcy-1.17-py2.py3-none-any.whl (33 kB)\n",
      "Collecting sklearn\n",
      "  Downloading sklearn-0.0.post1.tar.gz (3.6 kB)\n",
      "  Preparing metadata (setup.py): started\n",
      "  Preparing metadata (setup.py): finished with status 'done'\n",
      "Requirement already satisfied: setuptools in c:\\users\\dell\\anaconda3\\lib\\site-packages (from pyLDAvis) (63.4.1)\n",
      "Requirement already satisfied: scipy in c:\\users\\dell\\anaconda3\\lib\\site-packages (from pyLDAvis) (1.9.1)\n",
      "Requirement already satisfied: pandas>=1.2.0 in c:\\users\\dell\\anaconda3\\lib\\site-packages (from pyLDAvis) (1.4.4)\n",
      "Requirement already satisfied: scikit-learn in c:\\users\\dell\\anaconda3\\lib\\site-packages (from pyLDAvis) (1.0.2)\n",
      "Requirement already satisfied: jinja2 in c:\\users\\dell\\anaconda3\\lib\\site-packages (from pyLDAvis) (2.11.3)\n",
      "Requirement already satisfied: joblib in c:\\users\\dell\\anaconda3\\lib\\site-packages (from pyLDAvis) (1.1.0)\n",
      "Requirement already satisfied: python-dateutil>=2.8.1 in c:\\users\\dell\\anaconda3\\lib\\site-packages (from pandas>=1.2.0->pyLDAvis) (2.8.2)\n",
      "Requirement already satisfied: pytz>=2020.1 in c:\\users\\dell\\anaconda3\\lib\\site-packages (from pandas>=1.2.0->pyLDAvis) (2022.1)\n",
      "Requirement already satisfied: smart-open>=1.8.1 in c:\\users\\dell\\anaconda3\\lib\\site-packages (from gensim->pyLDAvis) (5.2.1)\n",
      "Requirement already satisfied: MarkupSafe>=0.23 in c:\\users\\dell\\anaconda3\\lib\\site-packages (from jinja2->pyLDAvis) (2.0.1)\n",
      "Requirement already satisfied: packaging in c:\\users\\dell\\anaconda3\\lib\\site-packages (from numexpr->pyLDAvis) (21.3)\n",
      "Requirement already satisfied: threadpoolctl>=2.0.0 in c:\\users\\dell\\anaconda3\\lib\\site-packages (from scikit-learn->pyLDAvis) (2.2.0)\n",
      "Requirement already satisfied: six>=1.5 in c:\\users\\dell\\anaconda3\\lib\\site-packages (from python-dateutil>=2.8.1->pandas>=1.2.0->pyLDAvis) (1.16.0)\n",
      "Requirement already satisfied: pyparsing!=3.0.5,>=2.0.2 in c:\\users\\dell\\anaconda3\\lib\\site-packages (from packaging->numexpr->pyLDAvis) (3.0.9)\n",
      "Building wheels for collected packages: pyLDAvis, sklearn\n",
      "  Building wheel for pyLDAvis (pyproject.toml): started\n",
      "  Building wheel for pyLDAvis (pyproject.toml): finished with status 'done'\n",
      "  Created wheel for pyLDAvis: filename=pyLDAvis-3.3.1-py2.py3-none-any.whl size=136904 sha256=fde88669e80328cbbe2dff3fe44172daa6de177e3133e30c698ea97a7f588817\n",
      "  Stored in directory: c:\\users\\dell\\appdata\\local\\pip\\cache\\wheels\\57\\a4\\86\\d10c6c2e0bf149fbc0afb0aa5a6528ac35b30a133a0270c477\n",
      "  Building wheel for sklearn (setup.py): started\n",
      "  Building wheel for sklearn (setup.py): finished with status 'done'\n",
      "  Created wheel for sklearn: filename=sklearn-0.0.post1-py3-none-any.whl size=2936 sha256=33610f8f303088160bf2caf69d81bfc6de29f83f1a00cf9e0e9583089b9ba018\n",
      "  Stored in directory: c:\\users\\dell\\appdata\\local\\pip\\cache\\wheels\\f8\\e0\\3d\\9d0c2020c44a519b9f02ab4fa6d2a4a996c98d79ab2f569fa1\n",
      "Successfully built pyLDAvis sklearn\n",
      "Installing collected packages: sklearn, funcy, pyLDAvis\n",
      "Successfully installed funcy-1.17 pyLDAvis-3.3.1 sklearn-0.0.post1\n",
      "Note: you may need to restart the kernel to use updated packages.\n"
     ]
    }
   ],
   "source": [
    "pip install pyLDAvis"
   ]
  },
  {
   "cell_type": "code",
   "execution_count": 3,
   "metadata": {},
   "outputs": [
    {
     "name": "stdout",
     "output_type": "stream",
     "text": [
      "Requirement already satisfied: gensim in c:\\users\\dell\\anaconda3\\lib\\site-packages (4.1.2)\n",
      "Requirement already satisfied: smart-open>=1.8.1 in c:\\users\\dell\\anaconda3\\lib\\site-packages (from gensim) (5.2.1)\n",
      "Requirement already satisfied: numpy>=1.17.0 in c:\\users\\dell\\anaconda3\\lib\\site-packages (from gensim) (1.21.5)\n",
      "Requirement already satisfied: scipy>=0.18.1 in c:\\users\\dell\\anaconda3\\lib\\site-packages (from gensim) (1.9.1)\n",
      "Note: you may need to restart the kernel to use updated packages.\n"
     ]
    }
   ],
   "source": [
    "pip install gensim"
   ]
  },
  {
   "cell_type": "markdown",
   "metadata": {},
   "source": [
    "<b> Importing Packages: </b>"
   ]
  },
  {
   "cell_type": "code",
   "execution_count": 1,
   "metadata": {},
   "outputs": [
    {
     "name": "stderr",
     "output_type": "stream",
     "text": [
      "C:\\Users\\Dell\\anaconda3\\lib\\site-packages\\past\\builtins\\misc.py:45: DeprecationWarning: the imp module is deprecated in favour of importlib; see the module's documentation for alternative uses\n",
      "  from imp import reload\n"
     ]
    }
   ],
   "source": [
    "import re\n",
    "import numpy as np\n",
    "import pandas as pd\n",
    "from pprint import pprint\n",
    "\n",
    "# Gensim\n",
    "import gensim\n",
    "import gensim.corpora as corpora\n",
    "from gensim.utils import simple_preprocess\n",
    "from gensim.models import CoherenceModel\n",
    "\n",
    "# spacy for lemmatization\n",
    "import spacy\n",
    "\n",
    "# Plotting tools\n",
    "import pyLDAvis\n",
    "import matplotlib.pyplot as plt\n",
    "%matplotlib inline\n",
    "\n",
    "# Enable logging for gensim - optional\n",
    "import logging\n",
    "logging.basicConfig(format='%(asctime)s : %(levelname)s : %(message)s', level=logging.ERROR)\n",
    "\n",
    "import warnings\n",
    "warnings.filterwarnings(\"ignore\",category=DeprecationWarning)"
   ]
  },
  {
   "cell_type": "markdown",
   "metadata": {},
   "source": [
    "<b> Preparation of Stopwords: </b>"
   ]
  },
  {
   "cell_type": "code",
   "execution_count": 3,
   "metadata": {},
   "outputs": [
    {
     "name": "stderr",
     "output_type": "stream",
     "text": [
      "[nltk_data] Downloading package stopwords to\n",
      "[nltk_data]     C:\\Users\\Dell\\AppData\\Roaming\\nltk_data...\n",
      "[nltk_data]   Unzipping corpora\\stopwords.zip.\n"
     ]
    },
    {
     "data": {
      "text/plain": [
       "True"
      ]
     },
     "execution_count": 3,
     "metadata": {},
     "output_type": "execute_result"
    }
   ],
   "source": [
    "import nltk\n",
    "nltk.download('stopwords')"
   ]
  },
  {
   "cell_type": "code",
   "execution_count": 192,
   "metadata": {},
   "outputs": [],
   "source": [
    "# NLTK Stop words\n",
    "from nltk.corpus import stopwords\n",
    "stop_words = stopwords.words('english')\n",
    "stop_words.extend(['cyber', 'cyber security','cybersecurity','however','et','al', 'may', 'from', 'subject', 're', 'edu', 'use','U.S.','also','research','time','much','scientist','researcher','say','year','well','due','per_cent','percent','author','per _cent','65','2019'])"
   ]
  },
  {
   "cell_type": "markdown",
   "metadata": {},
   "source": [
    "<b> Importing Dataset: </b>"
   ]
  },
  {
   "cell_type": "code",
   "execution_count": 68,
   "metadata": {},
   "outputs": [],
   "source": [
    "import pandas as pd\n",
    "df=pd.read_csv(\"C:\\\\Users\\\\Dell\\\\Desktop\\\\Nikitha\\\\2128240_Nikitha_TSMA.csv\")\n",
    "#df=pd.read_csv(\"C:\\\\Users\\\\Dell\\\\Desktop\\\\Nikitha\\\\2128240_Nikitha_TSMA.csv\",encoding=\"ISO-8859-1\")"
   ]
  },
  {
   "cell_type": "code",
   "execution_count": 50,
   "metadata": {},
   "outputs": [
    {
     "data": {
      "text/html": [
       "<div>\n",
       "<style scoped>\n",
       "    .dataframe tbody tr th:only-of-type {\n",
       "        vertical-align: middle;\n",
       "    }\n",
       "\n",
       "    .dataframe tbody tr th {\n",
       "        vertical-align: top;\n",
       "    }\n",
       "\n",
       "    .dataframe thead th {\n",
       "        text-align: right;\n",
       "    }\n",
       "</style>\n",
       "<table border=\"1\" class=\"dataframe\">\n",
       "  <thead>\n",
       "    <tr style=\"text-align: right;\">\n",
       "      <th></th>\n",
       "      <th>Article</th>\n",
       "    </tr>\n",
       "  </thead>\n",
       "  <tbody>\n",
       "    <tr>\n",
       "      <th>0</th>\n",
       "      <td>The integration of computing and communication...</td>\n",
       "    </tr>\n",
       "    <tr>\n",
       "      <th>1</th>\n",
       "      <td>There is a wealth of information security guid...</td>\n",
       "    </tr>\n",
       "    <tr>\n",
       "      <th>2</th>\n",
       "      <td>In recent times, there have been attempts to l...</td>\n",
       "    </tr>\n",
       "    <tr>\n",
       "      <th>3</th>\n",
       "      <td>The recent digital revolution led robots to be...</td>\n",
       "    </tr>\n",
       "    <tr>\n",
       "      <th>4</th>\n",
       "      <td>Deep learning derived from an artificial neura...</td>\n",
       "    </tr>\n",
       "    <tr>\n",
       "      <th>5</th>\n",
       "      <td>To combat cyber threats in the smart grid, an ...</td>\n",
       "    </tr>\n",
       "    <tr>\n",
       "      <th>6</th>\n",
       "      <td>We live in a time when data security has becom...</td>\n",
       "    </tr>\n",
       "    <tr>\n",
       "      <th>7</th>\n",
       "      <td>At present, most of the economic, commercial, ...</td>\n",
       "    </tr>\n",
       "    <tr>\n",
       "      <th>8</th>\n",
       "      <td>Cybersecurity is increasingly becoming a promi...</td>\n",
       "    </tr>\n",
       "    <tr>\n",
       "      <th>9</th>\n",
       "      <td>The aim of the researcher was to determine the...</td>\n",
       "    </tr>\n",
       "    <tr>\n",
       "      <th>10</th>\n",
       "      <td>Artificial Intelligence (AI) is one of the key...</td>\n",
       "    </tr>\n",
       "    <tr>\n",
       "      <th>11</th>\n",
       "      <td>In the ongoing digital era, cyber-security thr...</td>\n",
       "    </tr>\n",
       "    <tr>\n",
       "      <th>12</th>\n",
       "      <td>Recently, there has been enormous development ...</td>\n",
       "    </tr>\n",
       "    <tr>\n",
       "      <th>13</th>\n",
       "      <td>Today, the built environment is designed, buil...</td>\n",
       "    </tr>\n",
       "    <tr>\n",
       "      <th>14</th>\n",
       "      <td>This paper addresses the interplay between rob...</td>\n",
       "    </tr>\n",
       "    <tr>\n",
       "      <th>15</th>\n",
       "      <td>Cybersecurity fatigue is a form of work diseng...</td>\n",
       "    </tr>\n",
       "    <tr>\n",
       "      <th>16</th>\n",
       "      <td>Due to the increasing number of cyber incident...</td>\n",
       "    </tr>\n",
       "    <tr>\n",
       "      <th>17</th>\n",
       "      <td>Today, some cities around the world have tende...</td>\n",
       "    </tr>\n",
       "    <tr>\n",
       "      <th>18</th>\n",
       "      <td>In recent years, the use of the Internet of Th...</td>\n",
       "    </tr>\n",
       "    <tr>\n",
       "      <th>19</th>\n",
       "      <td>In this article, we present a comprehensive st...</td>\n",
       "    </tr>\n",
       "    <tr>\n",
       "      <th>20</th>\n",
       "      <td>In recent years, data has been expanding every...</td>\n",
       "    </tr>\n",
       "    <tr>\n",
       "      <th>21</th>\n",
       "      <td>The Covid-19 pandemic had a major impact on th...</td>\n",
       "    </tr>\n",
       "    <tr>\n",
       "      <th>22</th>\n",
       "      <td>The demands for information security in higher...</td>\n",
       "    </tr>\n",
       "    <tr>\n",
       "      <th>23</th>\n",
       "      <td>During recent years, many researchers and prof...</td>\n",
       "    </tr>\n",
       "    <tr>\n",
       "      <th>24</th>\n",
       "      <td>The pandemic has changed the citizens’ behavio...</td>\n",
       "    </tr>\n",
       "    <tr>\n",
       "      <th>25</th>\n",
       "      <td>Industrial cyber-physical systems (ICPSs) mana...</td>\n",
       "    </tr>\n",
       "    <tr>\n",
       "      <th>26</th>\n",
       "      <td>With the greater number of individuals using\\n...</td>\n",
       "    </tr>\n",
       "    <tr>\n",
       "      <th>27</th>\n",
       "      <td>Deep learning (DL), which is originated from\\n...</td>\n",
       "    </tr>\n",
       "    <tr>\n",
       "      <th>28</th>\n",
       "      <td>Businesses are reliant on data to survive in t...</td>\n",
       "    </tr>\n",
       "    <tr>\n",
       "      <th>29</th>\n",
       "      <td>Cyber security (or cybersecurity) has become a...</td>\n",
       "    </tr>\n",
       "    <tr>\n",
       "      <th>30</th>\n",
       "      <td>Computer and Information Security (CIS) is usu...</td>\n",
       "    </tr>\n",
       "    <tr>\n",
       "      <th>31</th>\n",
       "      <td>The contribution of the paper resides in the m...</td>\n",
       "    </tr>\n",
       "    <tr>\n",
       "      <th>32</th>\n",
       "      <td>The effectiveness of cyber security measures a...</td>\n",
       "    </tr>\n",
       "    <tr>\n",
       "      <th>33</th>\n",
       "      <td>The behavioral aspect of cybersecurity has gai...</td>\n",
       "    </tr>\n",
       "    <tr>\n",
       "      <th>34</th>\n",
       "      <td>Since the beginning of the Internet of Things ...</td>\n",
       "    </tr>\n",
       "    <tr>\n",
       "      <th>35</th>\n",
       "      <td>In this article, we provide an introduction to...</td>\n",
       "    </tr>\n",
       "    <tr>\n",
       "      <th>36</th>\n",
       "      <td>A decision support system for cyber-security i...</td>\n",
       "    </tr>\n",
       "    <tr>\n",
       "      <th>37</th>\n",
       "      <td>The article is devoted to cybersecurity risk a...</td>\n",
       "    </tr>\n",
       "    <tr>\n",
       "      <th>38</th>\n",
       "      <td>In the 21st century the development of interne...</td>\n",
       "    </tr>\n",
       "    <tr>\n",
       "      <th>39</th>\n",
       "      <td>Rapid technological development has changed dr...</td>\n",
       "    </tr>\n",
       "    <tr>\n",
       "      <th>40</th>\n",
       "      <td>In the current era of technology, by exploitin...</td>\n",
       "    </tr>\n",
       "    <tr>\n",
       "      <th>41</th>\n",
       "      <td>This paper presents a cyber-security culture f...</td>\n",
       "    </tr>\n",
       "    <tr>\n",
       "      <th>42</th>\n",
       "      <td>Cyber-attacks represent a potential threat to ...</td>\n",
       "    </tr>\n",
       "    <tr>\n",
       "      <th>43</th>\n",
       "      <td>This paper discusses the valuable role recomme...</td>\n",
       "    </tr>\n",
       "  </tbody>\n",
       "</table>\n",
       "</div>"
      ],
      "text/plain": [
       "                                              Article\n",
       "0   The integration of computing and communication...\n",
       "1   There is a wealth of information security guid...\n",
       "2   In recent times, there have been attempts to l...\n",
       "3   The recent digital revolution led robots to be...\n",
       "4   Deep learning derived from an artificial neura...\n",
       "5   To combat cyber threats in the smart grid, an ...\n",
       "6   We live in a time when data security has becom...\n",
       "7   At present, most of the economic, commercial, ...\n",
       "8   Cybersecurity is increasingly becoming a promi...\n",
       "9   The aim of the researcher was to determine the...\n",
       "10  Artificial Intelligence (AI) is one of the key...\n",
       "11  In the ongoing digital era, cyber-security thr...\n",
       "12  Recently, there has been enormous development ...\n",
       "13  Today, the built environment is designed, buil...\n",
       "14  This paper addresses the interplay between rob...\n",
       "15  Cybersecurity fatigue is a form of work diseng...\n",
       "16  Due to the increasing number of cyber incident...\n",
       "17  Today, some cities around the world have tende...\n",
       "18  In recent years, the use of the Internet of Th...\n",
       "19  In this article, we present a comprehensive st...\n",
       "20  In recent years, data has been expanding every...\n",
       "21  The Covid-19 pandemic had a major impact on th...\n",
       "22  The demands for information security in higher...\n",
       "23  During recent years, many researchers and prof...\n",
       "24  The pandemic has changed the citizens’ behavio...\n",
       "25  Industrial cyber-physical systems (ICPSs) mana...\n",
       "26  With the greater number of individuals using\\n...\n",
       "27  Deep learning (DL), which is originated from\\n...\n",
       "28  Businesses are reliant on data to survive in t...\n",
       "29  Cyber security (or cybersecurity) has become a...\n",
       "30  Computer and Information Security (CIS) is usu...\n",
       "31  The contribution of the paper resides in the m...\n",
       "32  The effectiveness of cyber security measures a...\n",
       "33  The behavioral aspect of cybersecurity has gai...\n",
       "34  Since the beginning of the Internet of Things ...\n",
       "35  In this article, we provide an introduction to...\n",
       "36  A decision support system for cyber-security i...\n",
       "37  The article is devoted to cybersecurity risk a...\n",
       "38  In the 21st century the development of interne...\n",
       "39  Rapid technological development has changed dr...\n",
       "40  In the current era of technology, by exploitin...\n",
       "41  This paper presents a cyber-security culture f...\n",
       "42  Cyber-attacks represent a potential threat to ...\n",
       "43  This paper discusses the valuable role recomme..."
      ]
     },
     "execution_count": 50,
     "metadata": {},
     "output_type": "execute_result"
    }
   ],
   "source": [
    "df"
   ]
  },
  {
   "cell_type": "markdown",
   "metadata": {},
   "source": [
    "<b> Removing New line characters: </b>"
   ]
  },
  {
   "cell_type": "code",
   "execution_count": 51,
   "metadata": {},
   "outputs": [],
   "source": [
    "# Convert to list\n",
    "data = df.Article.values.tolist()\n",
    "\n",
    "# Remove Emails\n",
    "data = [re.sub('\\S*@\\S*\\s?', '', sent) for sent in data]\n",
    "\n",
    "# Remove new line characters\n",
    "data = [re.sub('\\s+', ' ', sent) for sent in data]\n",
    "\n",
    "# Remove distracting single quotes\n",
    "data = [re.sub(\"\\'\", \"\", sent) for sent in data]\n",
    "\n",
    "# Remove numbers\n",
    "data = [re.sub('\\d+', ' ', sent) for sent in data]"
   ]
  },
  {
   "cell_type": "markdown",
   "metadata": {},
   "source": [
    "<b> Tokenization of Words and Cleaning of text: </b>"
   ]
  },
  {
   "cell_type": "code",
   "execution_count": 52,
   "metadata": {},
   "outputs": [
    {
     "name": "stdout",
     "output_type": "stream",
     "text": [
      "[['the', 'integration', 'of', 'computing', 'and', 'communication', 'capabilities', 'with', 'the', 'power', 'grid', 'has', 'led', 'to', 'numerous', 'vulnerabilities', 'in', 'the', 'cyber', 'physical', 'system', 'cps', 'this', 'cyber', 'security', 'threat', 'can', 'significantly', 'impact', 'the', 'physical', 'infrastructure', 'economy', 'and', 'society', 'in', 'traditional', 'it', 'environments', 'there', 'are', 'already', 'abundant', 'attack', 'cases', 'demonstrating', 'that', 'unauthorized', 'users', 'have', 'the', 'capability', 'to', 'access', 'and', 'manipulate', 'sensitive', 'data', 'from', 'protected', 'network', 'domain', 'electric', 'power', 'grids', 'have', 'also', 'heavily', 'adopted', 'information', 'technology', 'it', 'to', 'perform', 'real', 'time', 'control', 'monitoring', 'and', 'maintenance', 'tasks', 'in', 'sophisticated', 'cyber', 'attack', 'targeted', 'ukrainian', 'power', 'grid', 'causing', 'wide', 'area', 'power', 'outages', 'it', 'highlights', 'the', 'importance', 'of', 'investment', 'on', 'cyber', 'security', 'against', 'intruders', 'this', 'paper', 'provides', 'state', 'of', 'the', 'art', 'survey', 'of', 'the', 'most', 'relevant', 'cyber', 'security', 'studies', 'in', 'power', 'systems', 'it', 'reviews', 'research', 'that', 'demonstrates', 'cyber', 'security', 'risks', 'and', 'constructs', 'solutions', 'to', 'enhance', 'the', 'security', 'of', 'power', 'grid', 'to', 'achieve', 'this', 'goal', 'this', 'paper', 'covers', 'survey', 'of', 'the', 'state', 'of', 'the', 'art', 'smart', 'grid', 'technologies', 'power', 'industry', 'practices', 'and', 'standards', 'solutions', 'that', 'address', 'cyber', 'security', 'issues', 'review', 'of', 'existing', 'cps', 'testbeds', 'for', 'cyber', 'security', 'research', 'and', 'unsolved', 'cyber', 'security', 'problems', 'power', 'grid', 'cyber', 'security', 'research', 'has', 'been', 'conducted', 'at', 'washington', 'state', 'university', 'wsu', 'with', 'hardware', 'in', 'loop', 'cps', 'testbed', 'demonstration', 'is', 'provided', 'to', 'show', 'how', 'the', 'proposed', 'defense', 'systems', 'can', 'be', 'deployed', 'to', 'protect', 'power', 'grid', 'against', 'cyber', 'intruders', 'to', 'improve', 'the', 'efficiency', 'and', 'reliability', 'significant', 'investment', 'has', 'been', 'made', 'by', 'industry', 'and', 'government', 'to', 'build', 'smarter', 'and', 'more', 'automated', 'connected', 'power', 'system', 'with', 'the', 'support', 'of', 'information', 'and', 'communications', 'technology', 'ict', 'power', 'system', 'operators', 'can', 'perform', 'operation', 'and', 'control', 'tasks', 'based', 'on', 'data', 'acquired', 'from', 'remote', 'facilities', 'for', 'example', 'the', 'advanced', 'automation', 'system', 'isolates', 'faulted', 'segment', 'by', 'opening', 'switching', 'devices', 'circuit', 'breakers', 'and', 'automated', 'reclosers', 'and', 'sends', 'the', 'fault', 'information', 'back', 'to', 'the', 'control', 'center', 'since', 'power', 'grids', 'span', 'wide', 'geographic', 'area', 'public', 'and', 'private', 'networks', 'fiber', 'optics', 'rf', 'microwave', 'cellular', 'can', 'provide', 'communication', 'path', 'between', 'remote', 'sites', 'and', 'control', 'center', 'these', 'open', 'doors', 'for', 'attackers', 'to', 'access', 'power', 'grid', 'and', 'cause', 'disruptions', 'to', 'the', 'normal', 'operation', 'of', 'the', 'grid', 'cyber', 'attackers', 'also', 'have', 'the', 'ability', 'to', 'access', 'power', 'system', 'communication', 'networks', 'and', 'connect', 'to', 'remote', 'access', 'points', 'at', 'power', 'system', 'infrastructure', 'this', 'can', 'lead', 'to', 'serious', 'and', 'harmful', 'consequences', 'as', 'result', 'cyber', 'security', 'of', 'smart', 'grids', 'has', 'been', 'recognized', 'as', 'critical', 'issue', 'in', 'december', 'ukraine', 'power', 'system', 'experienced', 'wide', 'area', 'power', 'outage', 'in', 'cyber', 'attack', 'incident', 'the', 'outage', 'affected', 'approximately', 'customers', 'the', 'power', 'companies', 'sans', 'institute', 'and', 'electricity', 'information', 'sharing', 'and', 'analysis', 'center', 'eisac', 'published', 'reports', 'about', 'the', 'event', 'the', 'attack', 'started', 'from', 'malware', 'installations', 'by', 'phishing', 'mails', 'several', 'months', 'prior', 'to', 'the', 'attack', 'during', 'the', 'reconnaissance', 'period', 'attackers', 'monitored', 'the', 'operations', 'of', 'the', 'targeted', 'power', 'grid', 'for', 'planning', 'of', 'the', 'attack', 'steps', 'on', 'the', 'attack', 'day', 'human', 'machine', 'interface', 'hmi', 'was', 'hijacked', 'and', 'used', 'by', 'the', 'attackers', 'to', 'remotely', 'open', 'number', 'of', 'circuit', 'breakers', 'which', 'directly', 'cut', 'power', 'to', 'the', 'customers', 'to', 'further', 'complicate', 'the', 'restoration', 'process', 'the', 'telephone', 'system', 'and', 'communication', 'network', 'were', 'compromised', 'by', 'denial', 'of', 'service', 'dos', 'attack', 'so', 'that', 'the', 'call', 'center', 'could', 'not', 'accept', 'incoming', 'trouble', 'calls', 'from', 'customers', 'furthermore', 'the', 'malware', 'on', 'the', 'hmi', 'was', 'used', 'to', 'delete', 'software', 'on', 'the', 'system', 'which', 'prevented', 'the', 'operators', 'from', 'determining', 'the', 'extent', 'of', 'the', 'power', 'outage', 'and', 'hampered', 'restoration', 'actions', 'while', 'numerous', 'efforts', 'have', 'focused', 'the', 'development', 'and', 'deployment', 'of', 'technologies', 'to', 'protect', 'computer', 'systems', 'and', 'networks', 'these', 'techniques', 'do', 'not', 'provide', 'perfect', 'security', 'hence', 'important', 'issues', 'of', 'cyber', 'security', 'research', 'include', 'classification', 'of', 'the', 'normal', 'or', 'abnormal', 'system', 'activities', 'and', 'identification', 'of', 'vulnerabilities', 'in', 'order', 'to', 'discover', 'weaknesses', 'of', 'the', 'smart', 'grid', 'communication', 'systems', 'different', 'cyber', 'assessment', 'approaches', 'are', 'proposed', 'to', 'support', 'different', 'subsystems', 'the', 'studies', 'of', 'attack', 'impact', 'analysis', 'provide', 'the', 'requirements', 'to', 'design', 'cyber', 'detection', 'systems', 'intrusion', 'detection', 'systems', 'idss', 'and', 'anomaly', 'detection', 'systems', 'adss', 'many', 'industry', 'and', 'government', 'reports', 'have', 'identified', 'that', 'cyber', 'intruders', 'have', 'become', 'serious', 'threat', 'to', 'the', 'secure', 'operation', 'of', 'smart', 'grid', 'forty', 'six', 'cyber', 'attack', 'incidents', 'have', 'been', 'reported', 'in', 'the', 'energy', 'sector', 'in', 'most', 'of', 'which', 'targeted', 'the', 'it', 'system', 'of', 'utilities', 'and', 'vendors', 'the', 'department', 'of', 'energy', 'doe', 'indicates', 'that', 'the', 'actual', 'number', 'of', 'cyber', 'attacks', 'is', 'higher', 'than', 'reported', 'to', 'identify', 'and', 'eliminate', 'cyber', 'vulnerabilities', 'in', 'smart', 'grid', 'methods', 'to', 'detect', 'cyber', 'intrusions', 'and', 'mitigate', 'their', 'impact', 'need', 'to', 'be', 'developed', 'to', 'prevent', 'unauthorized', 'access', 'to', 'private', 'network', 'firewalls', 'are', 'installed', 'behind', 'an', 'access', 'point', 'router', 'and', 'gateway', 'in', 'order', 'to', 'filter', 'incoming', 'network', 'traffic', 'as', 'front', 'line', 'defense', 'using', 'the', 'properties', 'of', 'packets', 'such', 'as', 'time', 'delay', 'source', 'destination', 'ip', 'address', 'and', 'port', 'numbers', 'firewalls', 'are', 'capable', 'of', 'inspecting', 'and', 'discarding', 'suspicious', 'packets', 'however', 'the', 'performance', 'of', 'firewalls', 'relies', 'on', 'pre', 'defined', 'rule', 'set', 'since', 'commercial', 'grade', 'firewall', 'has', 'hundreds', 'of', 'configurable', 'rules', 'which', 'can', 'often', 'conflict', 'in', 'many', 'cases', 'furthermore', 'developing', 'accurate', 'firewall', 'rules', 'requires', 'that', 'the', 'utility', 'have', 'perfect', 'knowledge', 'of', 'all', 'cyber', 'assets', 'in', 'their', 'network', 'and', 'all', 'authorized', 'communications', 'however', 'this', 'information', 'is', 'rarely', 'available', 'while', 'the', 'grid', 'dependency', 'on', 'proprietary', 'software', 'platforms', 'further', 'complicates', 'this', 'process', 'in', 'identification', 'approaches', 'have', 'been', 'proposed', 'to', 'discover', 'anomalies', 'in', 'firewall', 'policies', 'in', 'addition', 'america', 'national', 'standards', 'institute', 'ansi', 'international', 'society', 'for', 'automation', 'isa', 'also', 'propose', 'best', 'practices', 'ansi', 'isa', 'for', 'high', 'level', 'security', 'policy', 'to', 'mitigate', 'threats', 'in', 'control', 'systems', 'furthermore', 'firewalls', 'have', 'other', 'limitations', 'as', 'they', 'cannot', 'protect', 'against', 'spoofed', 'messages', 'which', 'may', 'bypass', 'their', 'filter', 'rules', 'and', 'they', 'may', 'also', 'contain', 'software', 'vulnerabilities', 'that', 'may', 'allow', 'an', 'attacker', 'to', 'bypass', 'their', 'protection', 'network', 'packets', 'travelling', 'in', 'wan', 'may', 'not', 'be', 'protected', 'by', 'firewalls', 'as', 'there', 'is', 'often', 'concern', 'that', 'the', 'devices', 'may', 'introduce', 'excessive', 'communication', 'latency', 'to', 'ensure', 'confidentiality', 'and', 'integrity', 'of', 'the', 'grid', 'data', 'cryptographic', 'protection', 'mechanisms', 'of', 'communication', 'protocols', 'are', 'critical', 'many', 'communication', 'protocols', 'and', 'devices', 'used', 'by', 'the', 'power', 'industry', 'communications', 'were', 'developed', 'before', 'cyber', 'security', 'becomes', 'serious', 'concern', 'and', 'do', 'not', 'implement', 'strong', 'cryptographic', 'protection', 'for', 'example', 'modbus', 'and', 'distributed', 'network', 'protocol', 'dnp', 'are', 'used', 'in', 'scada', 'sas', 'pmu', 'and', 'der', 'systems', 'however', 'they', 'may', 'not', 'be', 'well', 'protected', 'against', 'cyber', 'attacks', 'moreover', 'dnp', 'is', 'used', 'in', 'wan', 'communication', 'that', 'increases', 'security', 'risks', 'as', 'wan', 'is', 'accessible', 'to', 'many', 'users', 'to', 'secure', 'communication', 'protocols', 'modbus', 'authentication', 'frameworks', 'have', 'been', 'proposed', 'lightweight', 'security', 'authentication', 'scheme', 'and', 'secured', 'frame', 'format', 'are', 'proposed', 'for', 'dnp', 'ict', 'systems', 'have', 'become', 'backbone', 'of', 'modern', 'power', 'grids', 'cyber', 'security', 'is', 'important', 'for', 'stability', 'and', 'reliability', 'of', 'the', 'smart', 'grid', 'this', 'paper', 'is', 'state', 'of', 'the', 'art', 'survey', 'of', 'cyber', 'security', 'for', 'smart', 'grid', 'vulnerabilities', 'are', 'increasingly', 'present', 'in', 'the', 'cyberpower', 'system', 'environment', 'due', 'to', 'the', 'growing', 'dependency', 'on', 'computer', 'systems', 'and', 'digital', 'communication', 'since', 'there', 'are', 'limitations', 'for', 'firewalls', 'to', 'identify', 'malicious', 'packets', 'adss', 'idss', 'are', 'critical', 'to', 'detect', 'anomalies', 'inside', 'private', 'network', 'lan', 'han', 'and', 'nan', 'furthermore', 'the', 'performance', 'of', 'detection', 'systems', 'should', 'meet', 'the', 'requirements', 'for', 'power', 'systems', 'such', 'as', 'accuracy', 'and', 'communication', 'delay', 'with', 'realistic', 'cps', 'testbed', 'researchers', 'can', 'test', 'their', 'cyber', 'protection', 'systems', 'to', 'evaluate', 'whether', 'requirements', 'are', 'met', 'research', 'results', 'on', 'cyber', 'security', 'of', 'smart', 'grid', 'are', 'demonstrated', 'on', 'cyber', 'power', 'system', 'testbed', 'test', 'cases', 'of', 'coordinated', 'cyber', 'attack', 'show', 'that', 'attackers', 'are', 'able', 'to', 'impact', 'power', 'system', 'by', 'compromising', 'critical', 'substations', 'furthermore', 'the', 'proposed', 'iads', 'and', 'ccads', 'are', 'applied', 'to', 'validate', 'the', 'anomaly', 'detection', 'capabilities', 'once', 'the', 'malicious', 'network', 'packets', 'are', 'detected', 'by', 'iadss', 'ccads', 'analyzes', 'the', 'predefined', 'relations', 'by', 'collecting', 'attack', 'information', 'from', 'each', 'targeted', 'substation', 'based', 'on', 'the', 'similarity', 'index', 'which', 'is', 'calculated', 'by', 'ccads', 'the', 'coordinated', 'cyber', 'attack', 'alarm', 'is', 'triggered', 'concurrently', 'iadss', 'execute', 'the', 'mitigation', 'process', 'blocking', 'the', 'circuit', 'breaker', 'operations', 'and', 'sending', 'disconnect', 'command', 'to', 'firewalls', 'to', 'block', 'the', 'intruders', 'connections', 'in', 'order', 'to', 'prevent', 'unknown', 'cyber', 'attacks', 'section', 'summarizes', 'the', 'potential', 'cyber', 'security', 'vulnerabilities', 'to', 'indicate', 'research', 'needs', 'for', 'enhancing', 'cyber', 'security', 'of', 'smart', 'grid', 'wireless', 'communications', 'are', 'threatened', 'by', 'jamming', 'attacks', 'since', 'the', 'absence', 'of', 'mitigation', 'approaches', 'creates', 'weakness', 'in', 'connectivity', 'of', 'smart', 'grid', 'components', 'gps', 'signals', 'are', 'vulnerable', 'to', 'spoofing', 'attacks', 'that', 'may', 'impact', 'the', 'time', 'based', 'synchronization', 'requirements', 'for', 'pmu', 'data', 'then', 'there', 'is', 'no', 'standard', 'to', 'assess', 'the', 'performance', 'of', 'adss', 'idss', 'although', 'several', 'detection', 'systems', 'have', 'been', 'proposed', 'and', 'tested', 'for', 'different', 'sectors', 'of', 'smart', 'grid', 'there', 'is', 'no', 'guarantee', 'for', 'the', 'detection', 'rate', 'in', 'practice', 'finally', 'further', 'research', 'on', 'coordinated', 'cyber', 'attacks', 'is', 'much', 'needed', 'the', 'ukrainian', 'power', 'grid', 'attack', 'has', 'shown', 'that', 'coordinated', 'cyber', 'attacks', 'increase', 'the', 'success', 'rate', 'of', 'cyber', 'intrusions', 'also', 'the', 'response', 'of', 'operators', 'should', 'be', 'taken', 'into', 'account', 'in', 'the', 'cyber', 'security', 'studies', 'in', 'cyber', 'attack', 'event', 'an', 'operator', 'could', 'be', 'deceived', 'by', 'falsified', 'data']]\n"
     ]
    }
   ],
   "source": [
    "def sent_to_words(sentences):\n",
    "    for sentence in sentences:\n",
    "        yield(gensim.utils.simple_preprocess(str(sentence), deacc=True))  # deacc=True removes punctuations\n",
    "\n",
    "data_words = list(sent_to_words(data))\n",
    "\n",
    "print(data_words[:1])"
   ]
  },
  {
   "cell_type": "markdown",
   "metadata": {},
   "source": [
    "<b> Creating Bigram and Trigram Models: </b>"
   ]
  },
  {
   "cell_type": "code",
   "execution_count": 53,
   "metadata": {},
   "outputs": [
    {
     "name": "stdout",
     "output_type": "stream",
     "text": [
      "['the', 'integration', 'of', 'computing', 'and', 'communication', 'capabilities', 'with', 'the', 'power_grid', 'has', 'led', 'to', 'numerous', 'vulnerabilities', 'in', 'the', 'cyber', 'physical', 'system', 'cps', 'this', 'cyber', 'security', 'threat', 'can', 'significantly', 'impact', 'the', 'physical', 'infrastructure', 'economy', 'and', 'society', 'in', 'traditional', 'it', 'environments', 'there', 'are', 'already', 'abundant', 'attack', 'cases', 'demonstrating', 'that', 'unauthorized', 'users', 'have', 'the', 'capability', 'to', 'access', 'and', 'manipulate', 'sensitive', 'data', 'from', 'protected', 'network', 'domain', 'electric', 'power', 'grids', 'have', 'also', 'heavily', 'adopted', 'information', 'technology', 'it', 'to', 'perform', 'real_time', 'control', 'monitoring', 'and', 'maintenance', 'tasks', 'in', 'sophisticated', 'cyber', 'attack', 'targeted', 'ukrainian', 'power_grid', 'causing', 'wide', 'area', 'power', 'outages', 'it', 'highlights', 'the', 'importance', 'of', 'investment', 'on', 'cyber', 'security', 'against', 'intruders', 'this', 'paper', 'provides', 'state', 'of', 'the', 'art', 'survey', 'of', 'the', 'most', 'relevant', 'cyber', 'security', 'studies', 'in', 'power', 'systems', 'it', 'reviews', 'research', 'that', 'demonstrates', 'cyber', 'security', 'risks', 'and', 'constructs', 'solutions', 'to', 'enhance', 'the', 'security', 'of', 'power_grid', 'to', 'achieve', 'this', 'goal', 'this', 'paper', 'covers', 'survey', 'of', 'the', 'state', 'of', 'the', 'art', 'smart_grid', 'technologies', 'power', 'industry', 'practices', 'and', 'standards', 'solutions', 'that', 'address', 'cyber', 'security', 'issues', 'review', 'of', 'existing', 'cps', 'testbeds', 'for', 'cyber', 'security', 'research', 'and', 'unsolved', 'cyber', 'security', 'problems', 'power_grid', 'cyber', 'security', 'research', 'has', 'been', 'conducted', 'at', 'washington', 'state', 'university', 'wsu', 'with', 'hardware', 'in', 'loop', 'cps', 'testbed', 'demonstration', 'is', 'provided', 'to', 'show', 'how', 'the', 'proposed', 'defense', 'systems', 'can', 'be', 'deployed', 'to', 'protect', 'power_grid', 'against', 'cyber', 'intruders', 'to', 'improve', 'the', 'efficiency', 'and', 'reliability', 'significant', 'investment', 'has', 'been', 'made', 'by', 'industry', 'and', 'government', 'to', 'build', 'smarter', 'and', 'more', 'automated', 'connected', 'power', 'system', 'with', 'the', 'support', 'of', 'information', 'and', 'communications', 'technology', 'ict', 'power', 'system', 'operators', 'can', 'perform', 'operation', 'and', 'control', 'tasks', 'based', 'on', 'data', 'acquired', 'from', 'remote', 'facilities', 'for', 'example', 'the', 'advanced', 'automation', 'system', 'isolates', 'faulted', 'segment', 'by', 'opening', 'switching', 'devices', 'circuit', 'breakers', 'and', 'automated', 'reclosers', 'and', 'sends', 'the', 'fault', 'information', 'back', 'to', 'the', 'control', 'center', 'since', 'power', 'grids', 'span', 'wide', 'geographic', 'area', 'public', 'and', 'private', 'networks', 'fiber', 'optics', 'rf', 'microwave', 'cellular', 'can', 'provide', 'communication', 'path', 'between', 'remote', 'sites', 'and', 'control', 'center', 'these', 'open', 'doors', 'for', 'attackers', 'to', 'access', 'power_grid', 'and', 'cause', 'disruptions', 'to', 'the', 'normal', 'operation', 'of', 'the', 'grid', 'cyber', 'attackers', 'also', 'have', 'the', 'ability', 'to', 'access', 'power', 'system', 'communication', 'networks', 'and', 'connect', 'to', 'remote', 'access', 'points', 'at', 'power', 'system', 'infrastructure', 'this', 'can', 'lead', 'to', 'serious', 'and', 'harmful', 'consequences', 'as', 'result', 'cyber', 'security', 'of', 'smart_grids', 'has', 'been', 'recognized', 'as', 'critical', 'issue', 'in', 'december', 'ukraine', 'power', 'system', 'experienced', 'wide', 'area', 'power', 'outage', 'in', 'cyber', 'attack', 'incident', 'the', 'outage', 'affected', 'approximately', 'customers', 'the', 'power', 'companies', 'sans', 'institute', 'and', 'electricity', 'information', 'sharing', 'and', 'analysis', 'center', 'eisac', 'published', 'reports', 'about', 'the', 'event', 'the', 'attack', 'started', 'from', 'malware', 'installations', 'by', 'phishing', 'mails', 'several', 'months', 'prior', 'to', 'the', 'attack', 'during', 'the', 'reconnaissance', 'period', 'attackers', 'monitored', 'the', 'operations', 'of', 'the', 'targeted', 'power_grid', 'for', 'planning', 'of', 'the', 'attack', 'steps', 'on', 'the', 'attack', 'day', 'human', 'machine', 'interface', 'hmi', 'was', 'hijacked', 'and', 'used', 'by', 'the', 'attackers', 'to', 'remotely', 'open', 'number', 'of', 'circuit', 'breakers', 'which', 'directly', 'cut', 'power', 'to', 'the', 'customers', 'to', 'further', 'complicate', 'the', 'restoration', 'process', 'the', 'telephone', 'system', 'and', 'communication', 'network', 'were', 'compromised', 'by', 'denial', 'of', 'service_dos', 'attack', 'so', 'that', 'the', 'call', 'center', 'could', 'not', 'accept', 'incoming', 'trouble', 'calls', 'from', 'customers', 'furthermore', 'the', 'malware', 'on', 'the', 'hmi', 'was', 'used', 'to', 'delete', 'software', 'on', 'the', 'system', 'which', 'prevented', 'the', 'operators', 'from', 'determining', 'the', 'extent', 'of', 'the', 'power', 'outage', 'and', 'hampered', 'restoration', 'actions', 'while', 'numerous', 'efforts', 'have', 'focused', 'the', 'development', 'and', 'deployment', 'of', 'technologies', 'to', 'protect', 'computer', 'systems', 'and', 'networks', 'these', 'techniques', 'do_not', 'provide', 'perfect', 'security', 'hence', 'important', 'issues', 'of', 'cyber', 'security', 'research', 'include', 'classification', 'of', 'the', 'normal', 'or', 'abnormal', 'system', 'activities', 'and', 'identification', 'of', 'vulnerabilities', 'in', 'order', 'to', 'discover', 'weaknesses', 'of', 'the', 'smart_grid', 'communication', 'systems', 'different', 'cyber', 'assessment', 'approaches', 'are', 'proposed', 'to', 'support', 'different', 'subsystems', 'the', 'studies', 'of', 'attack', 'impact', 'analysis', 'provide', 'the', 'requirements', 'to', 'design', 'cyber', 'detection', 'systems', 'intrusion_detection_systems', 'idss', 'and', 'anomaly_detection', 'systems', 'adss', 'many', 'industry', 'and', 'government', 'reports', 'have', 'identified', 'that', 'cyber', 'intruders', 'have', 'become', 'serious', 'threat', 'to', 'the', 'secure', 'operation', 'of', 'smart_grid', 'forty', 'six', 'cyber', 'attack', 'incidents', 'have', 'been', 'reported', 'in', 'the', 'energy', 'sector', 'in', 'most', 'of', 'which', 'targeted', 'the', 'it', 'system', 'of', 'utilities', 'and', 'vendors', 'the', 'department', 'of', 'energy', 'doe', 'indicates', 'that', 'the', 'actual', 'number', 'of', 'cyber', 'attacks', 'is', 'higher', 'than', 'reported', 'to', 'identify', 'and', 'eliminate', 'cyber', 'vulnerabilities', 'in', 'smart_grid', 'methods', 'to', 'detect', 'cyber', 'intrusions', 'and', 'mitigate', 'their', 'impact', 'need', 'to', 'be', 'developed', 'to', 'prevent', 'unauthorized_access', 'to', 'private', 'network', 'firewalls', 'are', 'installed', 'behind', 'an', 'access', 'point', 'router', 'and', 'gateway', 'in', 'order', 'to', 'filter', 'incoming', 'network', 'traffic', 'as', 'front', 'line', 'defense', 'using', 'the', 'properties', 'of', 'packets', 'such', 'as', 'time', 'delay', 'source', 'destination', 'ip', 'address', 'and', 'port', 'numbers', 'firewalls', 'are', 'capable', 'of', 'inspecting', 'and', 'discarding', 'suspicious', 'packets', 'however', 'the', 'performance', 'of', 'firewalls', 'relies', 'on', 'pre', 'defined', 'rule', 'set', 'since', 'commercial', 'grade', 'firewall', 'has', 'hundreds', 'of', 'configurable', 'rules', 'which', 'can', 'often', 'conflict', 'in', 'many', 'cases', 'furthermore', 'developing', 'accurate', 'firewall', 'rules', 'requires', 'that', 'the', 'utility', 'have', 'perfect', 'knowledge', 'of', 'all', 'cyber', 'assets', 'in', 'their', 'network', 'and', 'all', 'authorized', 'communications', 'however', 'this', 'information', 'is', 'rarely', 'available', 'while', 'the', 'grid', 'dependency', 'on', 'proprietary', 'software', 'platforms', 'further', 'complicates', 'this', 'process', 'in', 'identification', 'approaches', 'have', 'been', 'proposed', 'to', 'discover', 'anomalies', 'in', 'firewall', 'policies', 'in', 'addition', 'america', 'national', 'standards', 'institute', 'ansi', 'international', 'society', 'for', 'automation', 'isa', 'also', 'propose', 'best_practices', 'ansi', 'isa', 'for', 'high', 'level', 'security', 'policy', 'to', 'mitigate', 'threats', 'in', 'control', 'systems', 'furthermore', 'firewalls', 'have', 'other', 'limitations', 'as', 'they', 'cannot', 'protect', 'against', 'spoofed', 'messages', 'which', 'may', 'bypass', 'their', 'filter', 'rules', 'and', 'they', 'may', 'also', 'contain', 'software', 'vulnerabilities', 'that', 'may', 'allow', 'an', 'attacker', 'to', 'bypass', 'their', 'protection', 'network', 'packets', 'travelling', 'in', 'wan', 'may', 'not', 'be', 'protected', 'by', 'firewalls', 'as', 'there', 'is', 'often', 'concern', 'that', 'the', 'devices', 'may', 'introduce', 'excessive', 'communication', 'latency', 'to', 'ensure', 'confidentiality', 'and', 'integrity', 'of', 'the', 'grid', 'data', 'cryptographic', 'protection', 'mechanisms', 'of', 'communication', 'protocols', 'are', 'critical', 'many', 'communication', 'protocols', 'and', 'devices', 'used', 'by', 'the', 'power', 'industry', 'communications', 'were', 'developed', 'before', 'cyber', 'security', 'becomes', 'serious', 'concern', 'and', 'do_not', 'implement', 'strong', 'cryptographic', 'protection', 'for', 'example', 'modbus', 'and', 'distributed', 'network', 'protocol', 'dnp', 'are', 'used', 'in', 'scada', 'sas', 'pmu', 'and', 'der', 'systems', 'however', 'they', 'may', 'not', 'be', 'well', 'protected', 'against', 'cyber', 'attacks', 'moreover', 'dnp', 'is', 'used', 'in', 'wan', 'communication', 'that', 'increases', 'security', 'risks', 'as', 'wan', 'is', 'accessible', 'to', 'many', 'users', 'to', 'secure', 'communication', 'protocols', 'modbus', 'authentication', 'frameworks', 'have', 'been', 'proposed', 'lightweight', 'security', 'authentication', 'scheme', 'and', 'secured', 'frame', 'format', 'are', 'proposed', 'for', 'dnp', 'ict', 'systems', 'have', 'become', 'backbone', 'of', 'modern', 'power', 'grids', 'cyber', 'security', 'is', 'important', 'for', 'stability', 'and', 'reliability', 'of', 'the', 'smart_grid', 'this', 'paper', 'is', 'state', 'of', 'the', 'art', 'survey', 'of', 'cyber', 'security', 'for', 'smart_grid', 'vulnerabilities', 'are', 'increasingly', 'present', 'in', 'the', 'cyberpower', 'system', 'environment', 'due', 'to', 'the', 'growing', 'dependency', 'on', 'computer', 'systems', 'and', 'digital', 'communication', 'since', 'there', 'are', 'limitations', 'for', 'firewalls', 'to', 'identify', 'malicious', 'packets', 'adss', 'idss', 'are', 'critical', 'to', 'detect', 'anomalies', 'inside', 'private', 'network', 'lan', 'han', 'and', 'nan', 'furthermore', 'the', 'performance', 'of', 'detection', 'systems', 'should', 'meet', 'the', 'requirements', 'for', 'power', 'systems', 'such', 'as', 'accuracy', 'and', 'communication', 'delay', 'with', 'realistic', 'cps', 'testbed', 'researchers', 'can', 'test', 'their', 'cyber', 'protection', 'systems', 'to', 'evaluate', 'whether', 'requirements', 'are', 'met', 'research', 'results', 'on', 'cyber', 'security', 'of', 'smart_grid', 'are', 'demonstrated', 'on', 'cyber', 'power', 'system', 'testbed', 'test', 'cases', 'of', 'coordinated', 'cyber', 'attack', 'show', 'that', 'attackers', 'are', 'able', 'to', 'impact', 'power', 'system', 'by', 'compromising', 'critical', 'substations', 'furthermore', 'the', 'proposed', 'iads', 'and', 'ccads', 'are', 'applied', 'to', 'validate', 'the', 'anomaly_detection', 'capabilities', 'once', 'the', 'malicious', 'network', 'packets', 'are', 'detected', 'by', 'iadss', 'ccads', 'analyzes', 'the', 'predefined', 'relations', 'by', 'collecting', 'attack', 'information', 'from', 'each', 'targeted', 'substation', 'based', 'on', 'the', 'similarity', 'index', 'which', 'is', 'calculated', 'by', 'ccads', 'the', 'coordinated', 'cyber', 'attack', 'alarm', 'is', 'triggered', 'concurrently', 'iadss', 'execute', 'the', 'mitigation', 'process', 'blocking', 'the', 'circuit', 'breaker', 'operations', 'and', 'sending', 'disconnect', 'command', 'to', 'firewalls', 'to', 'block', 'the', 'intruders', 'connections', 'in', 'order', 'to', 'prevent', 'unknown', 'cyber', 'attacks', 'section', 'summarizes', 'the', 'potential', 'cyber', 'security', 'vulnerabilities', 'to', 'indicate', 'research', 'needs', 'for', 'enhancing', 'cyber', 'security', 'of', 'smart_grid', 'wireless', 'communications', 'are', 'threatened', 'by', 'jamming', 'attacks', 'since', 'the', 'absence', 'of', 'mitigation', 'approaches', 'creates', 'weakness', 'in', 'connectivity', 'of', 'smart_grid', 'components', 'gps', 'signals', 'are', 'vulnerable', 'to', 'spoofing', 'attacks', 'that', 'may', 'impact', 'the', 'time', 'based', 'synchronization', 'requirements', 'for', 'pmu', 'data', 'then', 'there', 'is', 'no', 'standard', 'to', 'assess', 'the', 'performance', 'of', 'adss', 'idss', 'although', 'several', 'detection', 'systems', 'have', 'been', 'proposed', 'and', 'tested', 'for', 'different', 'sectors', 'of', 'smart_grid', 'there', 'is', 'no', 'guarantee', 'for', 'the', 'detection', 'rate', 'in', 'practice', 'finally', 'further', 'research', 'on', 'coordinated', 'cyber', 'attacks', 'is', 'much', 'needed', 'the', 'ukrainian', 'power_grid', 'attack', 'has', 'shown', 'that', 'coordinated', 'cyber', 'attacks', 'increase', 'the', 'success', 'rate', 'of', 'cyber', 'intrusions', 'also', 'the', 'response', 'of', 'operators', 'should', 'be', 'taken_into_account', 'in', 'the', 'cyber', 'security', 'studies', 'in', 'cyber', 'attack', 'event', 'an', 'operator', 'could', 'be', 'deceived', 'by', 'falsified', 'data']\n"
     ]
    }
   ],
   "source": [
    "# Build the bigram and trigram models\n",
    "bigram = gensim.models.Phrases(data_words, min_count=5, threshold=100) # higher threshold fewer phrases.\n",
    "trigram = gensim.models.Phrases(bigram[data_words], threshold=100)  \n",
    "\n",
    "# Faster way to get a sentence clubbed as a trigram/bigram\n",
    "bigram_mod = gensim.models.phrases.Phraser(bigram)\n",
    "trigram_mod = gensim.models.phrases.Phraser(trigram)\n",
    "\n",
    "# See trigram example\n",
    "print(trigram_mod[bigram_mod[data_words[0]]])"
   ]
  },
  {
   "cell_type": "code",
   "execution_count": 54,
   "metadata": {},
   "outputs": [],
   "source": [
    "# Define functions for stopwords, bigrams, trigrams and lemmatization\n",
    "def remove_stopwords(texts):\n",
    "    return [[word for word in simple_preprocess(str(doc)) if word not in stop_words] for doc in texts]\n",
    "\n",
    "def make_bigrams(texts):\n",
    "    return [bigram_mod[doc] for doc in texts]\n",
    "\n",
    "def make_trigrams(texts):\n",
    "    return [trigram_mod[bigram_mod[doc]] for doc in texts]\n",
    "\n",
    "def lemmatization(texts, allowed_postags=['NOUN', 'ADJ', 'VERB', 'ADV']):\n",
    "    \"\"\"https://spacy.io/api/annotation\"\"\"\n",
    "    texts_out = []\n",
    "    for sent in texts:\n",
    "        doc = nlp(\" \".join(sent)) \n",
    "        texts_out.append([token.lemma_ for token in doc if token.pos_ in allowed_postags])\n",
    "    return texts_out"
   ]
  },
  {
   "cell_type": "markdown",
   "metadata": {},
   "source": [
    "<b> Removal of Stopwords, Making Bigrams and Lemmatization: </b>"
   ]
  },
  {
   "cell_type": "code",
   "execution_count": 16,
   "metadata": {},
   "outputs": [
    {
     "name": "stdout",
     "output_type": "stream",
     "text": [
      "Collecting en-core-web-sm==3.4.1\n",
      "  Downloading https://github.com/explosion/spacy-models/releases/download/en_core_web_sm-3.4.1/en_core_web_sm-3.4.1-py3-none-any.whl (12.8 MB)\n",
      "     --------------------------------------- 12.8/12.8 MB 10.1 MB/s eta 0:00:00\n",
      "Requirement already satisfied: spacy<3.5.0,>=3.4.0 in c:\\users\\dell\\anaconda3\\lib\\site-packages (from en-core-web-sm==3.4.1) (3.4.4)\n",
      "Requirement already satisfied: wasabi<1.1.0,>=0.9.1 in c:\\users\\dell\\anaconda3\\lib\\site-packages (from spacy<3.5.0,>=3.4.0->en-core-web-sm==3.4.1) (0.10.1)\n",
      "Requirement already satisfied: setuptools in c:\\users\\dell\\anaconda3\\lib\\site-packages (from spacy<3.5.0,>=3.4.0->en-core-web-sm==3.4.1) (63.4.1)\n",
      "Requirement already satisfied: spacy-legacy<3.1.0,>=3.0.10 in c:\\users\\dell\\anaconda3\\lib\\site-packages (from spacy<3.5.0,>=3.4.0->en-core-web-sm==3.4.1) (3.0.10)\n",
      "Requirement already satisfied: thinc<8.2.0,>=8.1.0 in c:\\users\\dell\\anaconda3\\lib\\site-packages (from spacy<3.5.0,>=3.4.0->en-core-web-sm==3.4.1) (8.1.6)\n",
      "Requirement already satisfied: pydantic!=1.8,!=1.8.1,<1.11.0,>=1.7.4 in c:\\users\\dell\\anaconda3\\lib\\site-packages (from spacy<3.5.0,>=3.4.0->en-core-web-sm==3.4.1) (1.10.2)\n",
      "Requirement already satisfied: typer<0.8.0,>=0.3.0 in c:\\users\\dell\\anaconda3\\lib\\site-packages (from spacy<3.5.0,>=3.4.0->en-core-web-sm==3.4.1) (0.7.0)\n",
      "Requirement already satisfied: cymem<2.1.0,>=2.0.2 in c:\\users\\dell\\anaconda3\\lib\\site-packages (from spacy<3.5.0,>=3.4.0->en-core-web-sm==3.4.1) (2.0.7)\n",
      "Requirement already satisfied: jinja2 in c:\\users\\dell\\anaconda3\\lib\\site-packages (from spacy<3.5.0,>=3.4.0->en-core-web-sm==3.4.1) (2.11.3)\n",
      "Requirement already satisfied: catalogue<2.1.0,>=2.0.6 in c:\\users\\dell\\anaconda3\\lib\\site-packages (from spacy<3.5.0,>=3.4.0->en-core-web-sm==3.4.1) (2.0.8)\n",
      "Requirement already satisfied: numpy>=1.15.0 in c:\\users\\dell\\anaconda3\\lib\\site-packages (from spacy<3.5.0,>=3.4.0->en-core-web-sm==3.4.1) (1.21.5)\n",
      "Requirement already satisfied: murmurhash<1.1.0,>=0.28.0 in c:\\users\\dell\\anaconda3\\lib\\site-packages (from spacy<3.5.0,>=3.4.0->en-core-web-sm==3.4.1) (1.0.9)\n",
      "Requirement already satisfied: pathy>=0.3.5 in c:\\users\\dell\\anaconda3\\lib\\site-packages (from spacy<3.5.0,>=3.4.0->en-core-web-sm==3.4.1) (0.10.1)\n",
      "Requirement already satisfied: langcodes<4.0.0,>=3.2.0 in c:\\users\\dell\\anaconda3\\lib\\site-packages (from spacy<3.5.0,>=3.4.0->en-core-web-sm==3.4.1) (3.3.0)\n",
      "Requirement already satisfied: srsly<3.0.0,>=2.4.3 in c:\\users\\dell\\anaconda3\\lib\\site-packages (from spacy<3.5.0,>=3.4.0->en-core-web-sm==3.4.1) (2.4.5)\n",
      "Requirement already satisfied: requests<3.0.0,>=2.13.0 in c:\\users\\dell\\anaconda3\\lib\\site-packages (from spacy<3.5.0,>=3.4.0->en-core-web-sm==3.4.1) (2.28.1)\n",
      "Requirement already satisfied: tqdm<5.0.0,>=4.38.0 in c:\\users\\dell\\anaconda3\\lib\\site-packages (from spacy<3.5.0,>=3.4.0->en-core-web-sm==3.4.1) (4.64.1)\n",
      "Requirement already satisfied: preshed<3.1.0,>=3.0.2 in c:\\users\\dell\\anaconda3\\lib\\site-packages (from spacy<3.5.0,>=3.4.0->en-core-web-sm==3.4.1) (3.0.8)\n",
      "Requirement already satisfied: spacy-loggers<2.0.0,>=1.0.0 in c:\\users\\dell\\anaconda3\\lib\\site-packages (from spacy<3.5.0,>=3.4.0->en-core-web-sm==3.4.1) (1.0.4)\n",
      "Requirement already satisfied: smart-open<7.0.0,>=5.2.1 in c:\\users\\dell\\anaconda3\\lib\\site-packages (from spacy<3.5.0,>=3.4.0->en-core-web-sm==3.4.1) (5.2.1)\n",
      "Requirement already satisfied: packaging>=20.0 in c:\\users\\dell\\anaconda3\\lib\\site-packages (from spacy<3.5.0,>=3.4.0->en-core-web-sm==3.4.1) (21.3)\n",
      "Requirement already satisfied: pyparsing!=3.0.5,>=2.0.2 in c:\\users\\dell\\anaconda3\\lib\\site-packages (from packaging>=20.0->spacy<3.5.0,>=3.4.0->en-core-web-sm==3.4.1) (3.0.9)\n",
      "Requirement already satisfied: typing-extensions>=4.1.0 in c:\\users\\dell\\anaconda3\\lib\\site-packages (from pydantic!=1.8,!=1.8.1,<1.11.0,>=1.7.4->spacy<3.5.0,>=3.4.0->en-core-web-sm==3.4.1) (4.3.0)\n",
      "Requirement already satisfied: charset-normalizer<3,>=2 in c:\\users\\dell\\anaconda3\\lib\\site-packages (from requests<3.0.0,>=2.13.0->spacy<3.5.0,>=3.4.0->en-core-web-sm==3.4.1) (2.0.4)\n",
      "Requirement already satisfied: urllib3<1.27,>=1.21.1 in c:\\users\\dell\\anaconda3\\lib\\site-packages (from requests<3.0.0,>=2.13.0->spacy<3.5.0,>=3.4.0->en-core-web-sm==3.4.1) (1.26.11)\n",
      "Requirement already satisfied: certifi>=2017.4.17 in c:\\users\\dell\\anaconda3\\lib\\site-packages (from requests<3.0.0,>=2.13.0->spacy<3.5.0,>=3.4.0->en-core-web-sm==3.4.1) (2022.9.14)\n",
      "Requirement already satisfied: idna<4,>=2.5 in c:\\users\\dell\\anaconda3\\lib\\site-packages (from requests<3.0.0,>=2.13.0->spacy<3.5.0,>=3.4.0->en-core-web-sm==3.4.1) (3.3)\n",
      "Requirement already satisfied: blis<0.8.0,>=0.7.8 in c:\\users\\dell\\anaconda3\\lib\\site-packages (from thinc<8.2.0,>=8.1.0->spacy<3.5.0,>=3.4.0->en-core-web-sm==3.4.1) (0.7.9)\n",
      "Requirement already satisfied: confection<1.0.0,>=0.0.1 in c:\\users\\dell\\anaconda3\\lib\\site-packages (from thinc<8.2.0,>=8.1.0->spacy<3.5.0,>=3.4.0->en-core-web-sm==3.4.1) (0.0.3)\n",
      "Requirement already satisfied: colorama in c:\\users\\dell\\anaconda3\\lib\\site-packages (from tqdm<5.0.0,>=4.38.0->spacy<3.5.0,>=3.4.0->en-core-web-sm==3.4.1) (0.4.5)\n",
      "Requirement already satisfied: click<9.0.0,>=7.1.1 in c:\\users\\dell\\anaconda3\\lib\\site-packages (from typer<0.8.0,>=0.3.0->spacy<3.5.0,>=3.4.0->en-core-web-sm==3.4.1) (8.0.4)\n",
      "Requirement already satisfied: MarkupSafe>=0.23 in c:\\users\\dell\\anaconda3\\lib\\site-packages (from jinja2->spacy<3.5.0,>=3.4.0->en-core-web-sm==3.4.1) (2.0.1)\n",
      "Installing collected packages: en-core-web-sm\n",
      "Successfully installed en-core-web-sm-3.4.1\n",
      "Note: you may need to restart the kernel to use updated packages.\n"
     ]
    }
   ],
   "source": [
    "pip install https://github.com/explosion/spacy-models/releases/download/en_core_web_sm-3.4.1/en_core_web_sm-3.4.1-py3-none-any.whl"
   ]
  },
  {
   "cell_type": "code",
   "execution_count": 55,
   "metadata": {},
   "outputs": [],
   "source": [
    "# Remove Stop Words\n",
    "data_words_nostops = remove_stopwords(data_words)\n",
    "\n",
    "# Form Bigrams\n",
    "data_words_bigrams = make_bigrams(data_words_nostops)\n",
    "\n",
    "# Initialize spacy 'en' model, keeping only tagger component (for efficiency)\n",
    "# python3 -m spacy download en\n",
    "nlp = spacy.load('en_core_web_sm', disable=['parser', 'ner'])\n",
    "\n",
    "# Do lemmatization keeping only noun, adj, vb, adv\n",
    "data_lemmatized = lemmatization(data_words_bigrams, allowed_postags=['NOUN', 'ADJ', 'VERB', 'ADV'])\n",
    "\n",
    "#print(data_lemmatized[:1])\n",
    "df=pd.DataFrame(data_lemmatized)\n",
    "df.to_csv('processed_data.csv')"
   ]
  },
  {
   "cell_type": "markdown",
   "metadata": {},
   "source": [
    "<b> Creation of the Dictionary and Corpus needed for Topic Modeling: </b>"
   ]
  },
  {
   "cell_type": "code",
   "execution_count": 56,
   "metadata": {},
   "outputs": [
    {
     "name": "stdout",
     "output_type": "stream",
     "text": [
      "[[(0, 1), (1, 1), (2, 1), (3, 1), (4, 1), (5, 1), (6, 5), (7, 1), (8, 1), (9, 1), (10, 1), (11, 1), (12, 1), (13, 1), (14, 1), (15, 1), (16, 1), (17, 2), (18, 1), (19, 3), (20, 1), (21, 1), (22, 1), (23, 1), (24, 1), (25, 2), (26, 1), (27, 2), (28, 2), (29, 1), (30, 3), (31, 1), (32, 3), (33, 3), (34, 1), (35, 1), (36, 1), (37, 21), (38, 5), (39, 2), (40, 1), (41, 2), (42, 1), (43, 1), (44, 1), (45, 1), (46, 3), (47, 3), (48, 2), (49, 3), (50, 1), (51, 2), (52, 1), (53, 2), (54, 3), (55, 1), (56, 3), (57, 2), (58, 3), (59, 1), (60, 4), (61, 3), (62, 1), (63, 1), (64, 1), (65, 1), (66, 16), (67, 1), (68, 2), (69, 1), (70, 2), (71, 1), (72, 2), (73, 2), (74, 1), (75, 1), (76, 1), (77, 1), (78, 1), (79, 1), (80, 1), (81, 1), (82, 1), (83, 1), (84, 1), (85, 1), (86, 3), (87, 4), (88, 1), (89, 4), (90, 1), (91, 4), (92, 2), (93, 3), (94, 1), (95, 1), (96, 4), (97, 1), (98, 2), (99, 1), (100, 2), (101, 1), (102, 3), (103, 1), (104, 1), (105, 2), (106, 1), (107, 1), (108, 1), (109, 1), (110, 3), (111, 4), (112, 1), (113, 3), (114, 1), (115, 3), (116, 3), (117, 1), (118, 1), (119, 1), (120, 1), (121, 2), (122, 1), (123, 1), (124, 1), (125, 1), (126, 1), (127, 1), (128, 1), (129, 1), (130, 1), (131, 1), (132, 1), (133, 1), (134, 2), (135, 2), (136, 1), (137, 2), (138, 1), (139, 2), (140, 1), (141, 1), (142, 1), (143, 1), (144, 1), (145, 1), (146, 1), (147, 1), (148, 2), (149, 1), (150, 2), (151, 1), (152, 10), (153, 1), (154, 1), (155, 1), (156, 1), (157, 1), (158, 5), (159, 1), (160, 1), (161, 1), (162, 2), (163, 1), (164, 1), (165, 15), (166, 1), (167, 1), (168, 1), (169, 1), (170, 1), (171, 1), (172, 1), (173, 2), (174, 1), (175, 1), (176, 3), (177, 1), (178, 1), (179, 1), (180, 2), (181, 2), (182, 3), (183, 5), (184, 1), (185, 1), (186, 2), (187, 1), (188, 1), (189, 1), (190, 2), (191, 2), (192, 1), (193, 1), (194, 2), (195, 4), (196, 6), (197, 2), (198, 1), (199, 1), (200, 1), (201, 1), (202, 1), (203, 1), (204, 1), (205, 1), (206, 4), (207, 2), (208, 2), (209, 1), (210, 1), (211, 3), (212, 1), (213, 1), (214, 1), (215, 2), (216, 1), (217, 1), (218, 2), (219, 1), (220, 1), (221, 1), (222, 1), (223, 1), (224, 1), (225, 2), (226, 1), (227, 1), (228, 4), (229, 1), (230, 2), (231, 1), (232, 1), (233, 1), (234, 2), (235, 2), (236, 1), (237, 1), (238, 1), (239, 1), (240, 1), (241, 1), (242, 3), (243, 12), (244, 2), (245, 3), (246, 2), (247, 2), (248, 2), (249, 1), (250, 5), (251, 4), (252, 1), (253, 3), (254, 4), (255, 5), (256, 3), (257, 1), (258, 2), (259, 2), (260, 3), (261, 1), (262, 1), (263, 2), (264, 1), (265, 1), (266, 2), (267, 2), (268, 1), (269, 1), (270, 27), (271, 2), (272, 1), (273, 1), (274, 1), (275, 3), (276, 1), (277, 3), (278, 1), (279, 3), (280, 1), (281, 7), (282, 1), (283, 6), (284, 4), (285, 3), (286, 5), (287, 1), (288, 1), (289, 1), (290, 2), (291, 1), (292, 1), (293, 1), (294, 1), (295, 1), (296, 1), (297, 1), (298, 2), (299, 1), (300, 3), (301, 1), (302, 4), (303, 1), (304, 4), (305, 1), (306, 1), (307, 2), (308, 2), (309, 2), (310, 2), (311, 1), (312, 4), (313, 1), (314, 1), (315, 2), (316, 3), (317, 22), (318, 1), (319, 2), (320, 1), (321, 3), (322, 1), (323, 1), (324, 2), (325, 1), (326, 3), (327, 1), (328, 1), (329, 1), (330, 1), (331, 1), (332, 10), (333, 1), (334, 1), (335, 3), (336, 2), (337, 1), (338, 1), (339, 1), (340, 2), (341, 1), (342, 2), (343, 1), (344, 3), (345, 1), (346, 1), (347, 3), (348, 2), (349, 1), (350, 1), (351, 1), (352, 2), (353, 3), (354, 1), (355, 1), (356, 1), (357, 29), (358, 1), (359, 4), (360, 2), (361, 1), (362, 4), (363, 1), (364, 3), (365, 3), (366, 1), (367, 2), (368, 1), (369, 1), (370, 1), (371, 1), (372, 1), (373, 1), (374, 2), (375, 1), (376, 1), (377, 1), (378, 1), (379, 6), (380, 2), (381, 2), (382, 1), (383, 1), (384, 6), (385, 1), (386, 2), (387, 2), (388, 3), (389, 1)]]\n"
     ]
    }
   ],
   "source": [
    "# Create Dictionary\n",
    "id2word = corpora.Dictionary(data_lemmatized)\n",
    "\n",
    "# Create Corpus\n",
    "texts = data_lemmatized\n",
    "\n",
    "# Term Document Frequency\n",
    "corpus = [id2word.doc2bow(text) for text in texts]\n",
    "\n",
    "#View\n",
    "print(corpus[:1])"
   ]
  },
  {
   "cell_type": "code",
   "execution_count": 57,
   "metadata": {},
   "outputs": [
    {
     "data": {
      "text/plain": [
       "[[('ability', 1),\n",
       "  ('able', 1),\n",
       "  ('abnormal', 1),\n",
       "  ('absence', 1),\n",
       "  ('abundant', 1),\n",
       "  ('accept', 1),\n",
       "  ('access', 5),\n",
       "  ('accessible', 1),\n",
       "  ('account', 1),\n",
       "  ('accuracy', 1),\n",
       "  ('accurate', 1),\n",
       "  ('achieve', 1),\n",
       "  ('acquire', 1),\n",
       "  ('action', 1),\n",
       "  ('activity', 1),\n",
       "  ('actual', 1),\n",
       "  ('addition', 1),\n",
       "  ('address', 2),\n",
       "  ('adopt', 1),\n",
       "  ('adss', 3),\n",
       "  ('advanced', 1),\n",
       "  ('affect', 1),\n",
       "  ('alarm', 1),\n",
       "  ('allow', 1),\n",
       "  ('already', 1),\n",
       "  ('analysis', 2),\n",
       "  ('analyze', 1),\n",
       "  ('anomaly', 2),\n",
       "  ('anomaly_detection', 2),\n",
       "  ('apply', 1),\n",
       "  ('approach', 3),\n",
       "  ('approximately', 1),\n",
       "  ('area', 3),\n",
       "  ('art', 3),\n",
       "  ('assess', 1),\n",
       "  ('assessment', 1),\n",
       "  ('asset', 1),\n",
       "  ('attack', 21),\n",
       "  ('attacker', 5),\n",
       "  ('authentication', 2),\n",
       "  ('authorize', 1),\n",
       "  ('automate', 2),\n",
       "  ('automation', 1),\n",
       "  ('available', 1),\n",
       "  ('back', 1),\n",
       "  ('backbone', 1),\n",
       "  ('base', 3),\n",
       "  ('become', 3),\n",
       "  ('block', 2),\n",
       "  ('breaker', 3),\n",
       "  ('build', 1),\n",
       "  ('bypass', 2),\n",
       "  ('calculate', 1),\n",
       "  ('call', 2),\n",
       "  ('capability', 3),\n",
       "  ('capable', 1),\n",
       "  ('case', 3),\n",
       "  ('cause', 2),\n",
       "  ('ccad', 3),\n",
       "  ('cellular', 1),\n",
       "  ('center', 4),\n",
       "  ('circuit', 3),\n",
       "  ('classification', 1),\n",
       "  ('collect', 1),\n",
       "  ('command', 1),\n",
       "  ('commercial', 1),\n",
       "  ('communication', 16),\n",
       "  ('company', 1),\n",
       "  ('complicate', 2),\n",
       "  ('component', 1),\n",
       "  ('compromise', 2),\n",
       "  ('compute', 1),\n",
       "  ('computer', 2),\n",
       "  ('concern', 2),\n",
       "  ('concurrently', 1),\n",
       "  ('conduct', 1),\n",
       "  ('confidentiality', 1),\n",
       "  ('configurable', 1),\n",
       "  ('conflict', 1),\n",
       "  ('connect', 1),\n",
       "  ('connected', 1),\n",
       "  ('connection', 1),\n",
       "  ('connectivity', 1),\n",
       "  ('consequence', 1),\n",
       "  ('construct', 1),\n",
       "  ('contain', 1),\n",
       "  ('control', 3),\n",
       "  ('coordinate', 4),\n",
       "  ('cover', 1),\n",
       "  ('cp', 4),\n",
       "  ('create', 1),\n",
       "  ('critical', 4),\n",
       "  ('cryptographic', 2),\n",
       "  ('customer', 3),\n",
       "  ('cut', 1),\n",
       "  ('cyberpower', 1),\n",
       "  ('datum', 4),\n",
       "  ('deceive', 1),\n",
       "  ('defense', 2),\n",
       "  ('define', 1),\n",
       "  ('delay', 2),\n",
       "  ('delete', 1),\n",
       "  ('demonstrate', 3),\n",
       "  ('demonstration', 1),\n",
       "  ('denial', 1),\n",
       "  ('dependency', 2),\n",
       "  ('deploy', 1),\n",
       "  ('deployment', 1),\n",
       "  ('design', 1),\n",
       "  ('destination', 1),\n",
       "  ('detect', 3),\n",
       "  ('detection', 4),\n",
       "  ('determine', 1),\n",
       "  ('develop', 3),\n",
       "  ('development', 1),\n",
       "  ('device', 3),\n",
       "  ('different', 3),\n",
       "  ('digital', 1),\n",
       "  ('directly', 1),\n",
       "  ('discard', 1),\n",
       "  ('disconnect', 1),\n",
       "  ('discover', 2),\n",
       "  ('disruption', 1),\n",
       "  ('distribute', 1),\n",
       "  ('doe', 1),\n",
       "  ('domain', 1),\n",
       "  ('door', 1),\n",
       "  ('economy', 1),\n",
       "  ('efficiency', 1),\n",
       "  ('effort', 1),\n",
       "  ('eisac', 1),\n",
       "  ('electric', 1),\n",
       "  ('electricity', 1),\n",
       "  ('eliminate', 1),\n",
       "  ('energy', 2),\n",
       "  ('enhance', 2),\n",
       "  ('ensure', 1),\n",
       "  ('environment', 2),\n",
       "  ('evaluate', 1),\n",
       "  ('event', 2),\n",
       "  ('example', 1),\n",
       "  ('excessive', 1),\n",
       "  ('execute', 1),\n",
       "  ('exist', 1),\n",
       "  ('experience', 1),\n",
       "  ('extent', 1),\n",
       "  ('facility', 1),\n",
       "  ('falsify', 1),\n",
       "  ('fault', 2),\n",
       "  ('fiber', 1),\n",
       "  ('filter', 2),\n",
       "  ('finally', 1),\n",
       "  ('firewall', 10),\n",
       "  ('focus', 1),\n",
       "  ('format', 1),\n",
       "  ('frame', 1),\n",
       "  ('framework', 1),\n",
       "  ('front', 1),\n",
       "  ('furthermore', 5),\n",
       "  ('gateway', 1),\n",
       "  ('geographic', 1),\n",
       "  ('goal', 1),\n",
       "  ('government', 2),\n",
       "  ('gps', 1),\n",
       "  ('grade', 1),\n",
       "  ('grid', 15),\n",
       "  ('grow', 1),\n",
       "  ('guarantee', 1),\n",
       "  ('hamper', 1),\n",
       "  ('hardware', 1),\n",
       "  ('harmful', 1),\n",
       "  ('heavily', 1),\n",
       "  ('hence', 1),\n",
       "  ('high', 2),\n",
       "  ('highlight', 1),\n",
       "  ('hijack', 1),\n",
       "  ('however', 3),\n",
       "  ('human', 1),\n",
       "  ('hundred', 1),\n",
       "  ('iad', 1),\n",
       "  ('ict', 2),\n",
       "  ('identification', 2),\n",
       "  ('identify', 3),\n",
       "  ('impact', 5),\n",
       "  ('implement', 1),\n",
       "  ('importance', 1),\n",
       "  ('important', 2),\n",
       "  ('improve', 1),\n",
       "  ('incident', 1),\n",
       "  ('include', 1),\n",
       "  ('incoming', 2),\n",
       "  ('increase', 2),\n",
       "  ('increasingly', 1),\n",
       "  ('index', 1),\n",
       "  ('indicate', 2),\n",
       "  ('industry', 4),\n",
       "  ('information', 6),\n",
       "  ('infrastructure', 2),\n",
       "  ('inspect', 1),\n",
       "  ('instal', 1),\n",
       "  ('installation', 1),\n",
       "  ('institute', 1),\n",
       "  ('integration', 1),\n",
       "  ('integrity', 1),\n",
       "  ('interface', 1),\n",
       "  ('introduce', 1),\n",
       "  ('intruder', 4),\n",
       "  ('intrusion', 2),\n",
       "  ('investment', 2),\n",
       "  ('ip', 1),\n",
       "  ('isolate', 1),\n",
       "  ('issue', 3),\n",
       "  ('jamming', 1),\n",
       "  ('knowledge', 1),\n",
       "  ('latency', 1),\n",
       "  ('lead', 2),\n",
       "  ('level', 1),\n",
       "  ('lightweight', 1),\n",
       "  ('limitation', 2),\n",
       "  ('line', 1),\n",
       "  ('loop', 1),\n",
       "  ('machine', 1),\n",
       "  ('mail', 1),\n",
       "  ('maintenance', 1),\n",
       "  ('make', 1),\n",
       "  ('malicious', 2),\n",
       "  ('malware', 1),\n",
       "  ('manipulate', 1),\n",
       "  ('many', 4),\n",
       "  ('mechanism', 1),\n",
       "  ('meet', 2),\n",
       "  ('message', 1),\n",
       "  ('method', 1),\n",
       "  ('microwave', 1),\n",
       "  ('mitigate', 2),\n",
       "  ('mitigation', 2),\n",
       "  ('modbus', 1),\n",
       "  ('modern', 1),\n",
       "  ('monitor', 1),\n",
       "  ('monitoring', 1),\n",
       "  ('month', 1),\n",
       "  ('moreover', 1),\n",
       "  ('need', 3),\n",
       "  ('network', 12),\n",
       "  ('normal', 2),\n",
       "  ('number', 3),\n",
       "  ('numerous', 2),\n",
       "  ('often', 2),\n",
       "  ('open', 2),\n",
       "  ('opening', 1),\n",
       "  ('operation', 5),\n",
       "  ('operator', 4),\n",
       "  ('optic', 1),\n",
       "  ('order', 3),\n",
       "  ('outage', 4),\n",
       "  ('packet', 5),\n",
       "  ('paper', 3),\n",
       "  ('path', 1),\n",
       "  ('perfect', 2),\n",
       "  ('perform', 2),\n",
       "  ('performance', 3),\n",
       "  ('period', 1),\n",
       "  ('phishe', 1),\n",
       "  ('physical', 2),\n",
       "  ('planning', 1),\n",
       "  ('platform', 1),\n",
       "  ('point', 2),\n",
       "  ('policy', 2),\n",
       "  ('port', 1),\n",
       "  ('potential', 1),\n",
       "  ('power', 27),\n",
       "  ('practice', 2),\n",
       "  ('pre', 1),\n",
       "  ('predefined', 1),\n",
       "  ('present', 1),\n",
       "  ('prevent', 3),\n",
       "  ('prior', 1),\n",
       "  ('private', 3),\n",
       "  ('problem', 1),\n",
       "  ('process', 3),\n",
       "  ('property', 1),\n",
       "  ('propose', 7),\n",
       "  ('proprietary', 1),\n",
       "  ('protect', 6),\n",
       "  ('protection', 4),\n",
       "  ('protocol', 3),\n",
       "  ('provide', 5),\n",
       "  ('public', 1),\n",
       "  ('publish', 1),\n",
       "  ('rarely', 1),\n",
       "  ('rate', 2),\n",
       "  ('real', 1),\n",
       "  ('realistic', 1),\n",
       "  ('recloser', 1),\n",
       "  ('recognize', 1),\n",
       "  ('reconnaissance', 1),\n",
       "  ('relation', 1),\n",
       "  ('relevant', 1),\n",
       "  ('reliability', 2),\n",
       "  ('rely', 1),\n",
       "  ('remote', 3),\n",
       "  ('remotely', 1),\n",
       "  ('report', 4),\n",
       "  ('require', 1),\n",
       "  ('requirement', 4),\n",
       "  ('researcher', 1),\n",
       "  ('response', 1),\n",
       "  ('restoration', 2),\n",
       "  ('result', 2),\n",
       "  ('review', 2),\n",
       "  ('risk', 2),\n",
       "  ('router', 1),\n",
       "  ('rule', 4),\n",
       "  ('scheme', 1),\n",
       "  ('section', 1),\n",
       "  ('sector', 2),\n",
       "  ('secure', 3),\n",
       "  ('security', 22),\n",
       "  ('segment', 1),\n",
       "  ('send', 2),\n",
       "  ('sensitive', 1),\n",
       "  ('serious', 3),\n",
       "  ('service_do', 1),\n",
       "  ('set', 1),\n",
       "  ('several', 2),\n",
       "  ('share', 1),\n",
       "  ('show', 3),\n",
       "  ('signal', 1),\n",
       "  ('significant', 1),\n",
       "  ('significantly', 1),\n",
       "  ('similarity', 1),\n",
       "  ('smart', 1),\n",
       "  ('smart_grid', 10),\n",
       "  ('smarter', 1),\n",
       "  ('society', 1),\n",
       "  ('software', 3),\n",
       "  ('solution', 2),\n",
       "  ('sophisticated', 1),\n",
       "  ('source', 1),\n",
       "  ('span', 1),\n",
       "  ('spoof', 2),\n",
       "  ('stability', 1),\n",
       "  ('standard', 2),\n",
       "  ('start', 1),\n",
       "  ('state', 3),\n",
       "  ('step', 1),\n",
       "  ('strong', 1),\n",
       "  ('study', 3),\n",
       "  ('substation', 2),\n",
       "  ('subsystem', 1),\n",
       "  ('success', 1),\n",
       "  ('summarize', 1),\n",
       "  ('support', 2),\n",
       "  ('survey', 3),\n",
       "  ('suspicious', 1),\n",
       "  ('switch', 1),\n",
       "  ('synchronization', 1),\n",
       "  ('system', 29),\n",
       "  ('take', 1),\n",
       "  ('target', 4),\n",
       "  ('task', 2),\n",
       "  ('technique', 1),\n",
       "  ('technology', 4),\n",
       "  ('telephone', 1),\n",
       "  ('test', 3),\n",
       "  ('testbe', 3),\n",
       "  ('testbed', 1),\n",
       "  ('threat', 2),\n",
       "  ('threaten', 1),\n",
       "  ('traditional', 1),\n",
       "  ('traffic', 1),\n",
       "  ('travel', 1),\n",
       "  ('trigger', 1),\n",
       "  ('trouble', 1),\n",
       "  ('ukrainian', 2),\n",
       "  ('unauthorized', 1),\n",
       "  ('unauthorized_access', 1),\n",
       "  ('unknown', 1),\n",
       "  ('unsolved', 1),\n",
       "  ('use', 6),\n",
       "  ('user', 2),\n",
       "  ('utility', 2),\n",
       "  ('validate', 1),\n",
       "  ('vendor', 1),\n",
       "  ('vulnerability', 6),\n",
       "  ('vulnerable', 1),\n",
       "  ('wan', 2),\n",
       "  ('weakness', 2),\n",
       "  ('wide', 3),\n",
       "  ('wireless', 1)]]"
      ]
     },
     "execution_count": 57,
     "metadata": {},
     "output_type": "execute_result"
    }
   ],
   "source": [
    "[[(id2word[id], freq) for id, freq in cp] for cp in corpus[:1]]"
   ]
  },
  {
   "cell_type": "markdown",
   "metadata": {},
   "source": [
    "<b> Building the topic model: </b>"
   ]
  },
  {
   "cell_type": "code",
   "execution_count": 111,
   "metadata": {},
   "outputs": [],
   "source": [
    "lda_model = gensim.models.ldamodel.LdaModel(corpus=corpus,\n",
    "                                           id2word=id2word,\n",
    "                                           num_topics=4, \n",
    "                                           random_state=100,\n",
    "                                           update_every=1,\n",
    "                                           chunksize=50,\n",
    "                                           passes=15,\n",
    "                                           alpha='auto',\n",
    "                                           per_word_topics=True)"
   ]
  },
  {
   "cell_type": "markdown",
   "metadata": {},
   "source": [
    "<b> Viewing the topics in LDA model: </b>"
   ]
  },
  {
   "cell_type": "code",
   "execution_count": 112,
   "metadata": {},
   "outputs": [
    {
     "name": "stdout",
     "output_type": "stream",
     "text": [
      "[(0,\n",
      "  '0.045*\"security\" + 0.010*\"information\" + 0.009*\"employee\" + 0.009*\"system\" '\n",
      "  '+ 0.009*\"user\" + 0.008*\"fatigue\" + 0.007*\"human\" + 0.005*\"behavior\" + '\n",
      "  '0.005*\"focus\" + 0.005*\"organization\"'),\n",
      " (1,\n",
      "  '0.021*\"security\" + 0.016*\"system\" + 0.011*\"network\" + 0.011*\"datum\" + '\n",
      "  '0.010*\"base\" + 0.010*\"use\" + 0.010*\"attack\" + 0.007*\"information\" + '\n",
      "  '0.006*\"model\" + 0.005*\"method\"'),\n",
      " (2,\n",
      "  '0.023*\"attack\" + 0.015*\"security\" + 0.008*\"system\" + 0.008*\"game\" + '\n",
      "  '0.008*\"use\" + 0.007*\"datum\" + 0.007*\"attacker\" + 0.006*\"device\" + '\n",
      "  '0.005*\"information\" + 0.005*\"target\"'),\n",
      " (3,\n",
      "  '0.017*\"security\" + 0.012*\"system\" + 0.008*\"use\" + 0.006*\"technology\" + '\n",
      "  '0.006*\"robot\" + 0.006*\"information\" + 0.006*\"threat\" + 0.006*\"attack\" + '\n",
      "  '0.005*\"include\" + 0.005*\"robotic\"')]\n"
     ]
    }
   ],
   "source": [
    "# Print the Keyword in the topics\n",
    "pprint(lda_model.print_topics())\n",
    "doc_lda = lda_model[corpus]"
   ]
  },
  {
   "cell_type": "markdown",
   "metadata": {},
   "source": [
    "<b> Compute Model Perplexity and Coherence Score: </b>\n",
    "\n",
    "Model perplexity and topic coherence provide a convenient measure to judge how good a given topic model is"
   ]
  },
  {
   "cell_type": "code",
   "execution_count": 113,
   "metadata": {},
   "outputs": [
    {
     "name": "stdout",
     "output_type": "stream",
     "text": [
      "\n",
      "Perplexity:  -7.37881177622224\n",
      "\n",
      "Coherence Score:  0.2732750868371213\n"
     ]
    }
   ],
   "source": [
    "# Compute Perplexity\n",
    "print('\\nPerplexity: ', lda_model.log_perplexity(corpus))  # a measure of how good the model is. lower the better.\n",
    "\n",
    "# Compute Coherence Score\n",
    "coherence_model_lda = CoherenceModel(model=lda_model, texts=data_lemmatized, dictionary=id2word, coherence='c_v')\n",
    "coherence_lda = coherence_model_lda.get_coherence()\n",
    "print('\\nCoherence Score: ', coherence_lda)"
   ]
  },
  {
   "cell_type": "markdown",
   "metadata": {},
   "source": [
    "<b>Visualization of the topics-keywords: </b>"
   ]
  },
  {
   "cell_type": "code",
   "execution_count": 114,
   "metadata": {
    "scrolled": true
   },
   "outputs": [
    {
     "name": "stderr",
     "output_type": "stream",
     "text": [
      "C:\\Users\\Dell\\anaconda3\\lib\\site-packages\\pyLDAvis\\_prepare.py:246: FutureWarning: In a future version of pandas all arguments of DataFrame.drop except for the argument 'labels' will be keyword-only.\n",
      "  default_term_info = default_term_info.sort_values(\n"
     ]
    }
   ],
   "source": [
    "# Visualize the topics\n",
    "%matplotlib inline\n",
    "import pyLDAvis.gensim_models\n",
    "pyLDAvis.enable_notebook()\n",
    "vis = pyLDAvis.gensim_models.prepare(lda_model, corpus, id2word)\n",
    "vis\n",
    "#p = pyLDAvis.gensim.prepare(topic_model, corpus, dictionary)\n",
    "pyLDAvis.save_html(vis, 'lda.html')\n",
    "#The larger the bubble, the more frequent is the topic in the documents"
   ]
  },
  {
   "cell_type": "markdown",
   "metadata": {},
   "source": [
    "<b>  Wordcloud of Top N words in each topic: </b>"
   ]
  },
  {
   "cell_type": "code",
   "execution_count": 24,
   "metadata": {},
   "outputs": [
    {
     "name": "stdout",
     "output_type": "stream",
     "text": [
      "Collecting wordcloud\n",
      "  Downloading wordcloud-1.8.2.2-cp39-cp39-win_amd64.whl (153 kB)\n",
      "     -------------------------------------- 153.1/153.1 kB 1.0 MB/s eta 0:00:00\n",
      "Requirement already satisfied: numpy>=1.6.1 in c:\\users\\dell\\anaconda3\\lib\\site-packages (from wordcloud) (1.21.5)\n",
      "Requirement already satisfied: matplotlib in c:\\users\\dell\\anaconda3\\lib\\site-packages (from wordcloud) (3.5.2)\n",
      "Requirement already satisfied: pillow in c:\\users\\dell\\anaconda3\\lib\\site-packages (from wordcloud) (9.2.0)\n",
      "Requirement already satisfied: kiwisolver>=1.0.1 in c:\\users\\dell\\anaconda3\\lib\\site-packages (from matplotlib->wordcloud) (1.4.2)\n",
      "Requirement already satisfied: pyparsing>=2.2.1 in c:\\users\\dell\\anaconda3\\lib\\site-packages (from matplotlib->wordcloud) (3.0.9)\n",
      "Requirement already satisfied: packaging>=20.0 in c:\\users\\dell\\anaconda3\\lib\\site-packages (from matplotlib->wordcloud) (21.3)\n",
      "Requirement already satisfied: python-dateutil>=2.7 in c:\\users\\dell\\anaconda3\\lib\\site-packages (from matplotlib->wordcloud) (2.8.2)\n",
      "Requirement already satisfied: cycler>=0.10 in c:\\users\\dell\\anaconda3\\lib\\site-packages (from matplotlib->wordcloud) (0.11.0)\n",
      "Requirement already satisfied: fonttools>=4.22.0 in c:\\users\\dell\\anaconda3\\lib\\site-packages (from matplotlib->wordcloud) (4.25.0)\n",
      "Requirement already satisfied: six>=1.5 in c:\\users\\dell\\anaconda3\\lib\\site-packages (from python-dateutil>=2.7->matplotlib->wordcloud) (1.16.0)\n",
      "Installing collected packages: wordcloud\n",
      "Successfully installed wordcloud-1.8.2.2\n",
      "Note: you may need to restart the kernel to use updated packages.\n"
     ]
    }
   ],
   "source": [
    "pip install wordcloud"
   ]
  },
  {
   "cell_type": "code",
   "execution_count": 191,
   "metadata": {},
   "outputs": [
    {
     "data": {
      "image/png": "[encoded data removed]",
      "text/plain": [
       "<Figure size 1500x1500 with 4 Axes>"
      ]
     },
     "metadata": {},
     "output_type": "display_data"
    }
   ],
   "source": [
    "from matplotlib import pyplot as plt\n",
    "from wordcloud import WordCloud, STOPWORDS\n",
    "import matplotlib.colors as mcolors\n",
    "\n",
    "cols = [color for name, color in mcolors.TABLEAU_COLORS.items()]  # more colors: 'mcolors.XKCD_COLORS'\n",
    "\n",
    "cloud = WordCloud(stopwords=stop_words,\n",
    "                  background_color='white',\n",
    "                  width=2500,\n",
    "                  height=1800,\n",
    "                  max_words=10,\n",
    "                  colormap='tab10',\n",
    "                  color_func=lambda *args, **kwargs: cols[i],\n",
    "                  prefer_horizontal=1.0)\n",
    "\n",
    "topics = lda_model.show_topics(formatted=False)\n",
    "\n",
    "fig, axes = plt.subplots(1, 4, figsize=(15,15), sharex=True, sharey=True)\n",
    "\n",
    "for i, ax in enumerate(axes.flatten()):\n",
    "    fig.add_subplot(ax)\n",
    "    topic_words = dict(topics[i][1])\n",
    "    cloud.generate_from_frequencies(topic_words, max_font_size=300)\n",
    "    plt.gca().imshow(cloud)\n",
    "    plt.gca().set_title('Topic ' + str(i), fontdict=dict(size=16))\n",
    "    plt.gca().axis('off')\n",
    "\n",
    "\n",
    "plt.subplots_adjust(wspace=0, hspace=0)\n",
    "plt.axis('off')\n",
    "plt.margins(x=0, y=0)\n",
    "plt.tight_layout()\n",
    "plt.show()\n"
   ]
  },
  {
   "cell_type": "markdown",
   "metadata": {},
   "source": [
    "# Method 2 - To find out which article belongs to which topic"
   ]
  },
  {
   "cell_type": "code",
   "execution_count": 193,
   "metadata": {},
   "outputs": [],
   "source": [
    "from sklearn.feature_extraction.text import CountVectorizer\n",
    "cv = CountVectorizer(max_df=0.95, min_df=2, stop_words=stop_words)"
   ]
  },
  {
   "cell_type": "code",
   "execution_count": 194,
   "metadata": {},
   "outputs": [
    {
     "name": "stderr",
     "output_type": "stream",
     "text": [
      "C:\\Users\\Dell\\anaconda3\\lib\\site-packages\\sklearn\\feature_extraction\\text.py:396: UserWarning: Your stop_words may be inconsistent with your preprocessing. Tokenizing the stop words generated tokens ['_cent', 'per', 'security'] not in stop_words.\n",
      "  warnings.warn(\n"
     ]
    }
   ],
   "source": [
    "dtm = cv.fit_transform(df['Article'])"
   ]
  },
  {
   "cell_type": "code",
   "execution_count": 195,
   "metadata": {},
   "outputs": [
    {
     "data": {
      "text/plain": [
       "<44x4359 sparse matrix of type '<class 'numpy.int64'>'\n",
       "\twith 29271 stored elements in Compressed Sparse Row format>"
      ]
     },
     "execution_count": 195,
     "metadata": {},
     "output_type": "execute_result"
    }
   ],
   "source": [
    "dtm"
   ]
  },
  {
   "cell_type": "code",
   "execution_count": 196,
   "metadata": {},
   "outputs": [],
   "source": [
    "from sklearn.decomposition import LatentDirichletAllocation"
   ]
  },
  {
   "cell_type": "code",
   "execution_count": 197,
   "metadata": {},
   "outputs": [],
   "source": [
    "LDA = LatentDirichletAllocation(n_components=4,random_state=100)"
   ]
  },
  {
   "cell_type": "code",
   "execution_count": 198,
   "metadata": {},
   "outputs": [
    {
     "data": {
      "text/plain": [
       "LatentDirichletAllocation(n_components=4, random_state=100)"
      ]
     },
     "execution_count": 198,
     "metadata": {},
     "output_type": "execute_result"
    }
   ],
   "source": [
    "# This can take awhile, we're dealing with a large amount of documents!\n",
    "LDA.fit(dtm)"
   ]
  },
  {
   "cell_type": "code",
   "execution_count": 199,
   "metadata": {},
   "outputs": [
    {
     "data": {
      "text/plain": [
       "4359"
      ]
     },
     "execution_count": 199,
     "metadata": {},
     "output_type": "execute_result"
    }
   ],
   "source": [
    "len(cv.get_feature_names_out())"
   ]
  },
  {
   "cell_type": "code",
   "execution_count": 200,
   "metadata": {},
   "outputs": [
    {
     "data": {
      "text/plain": [
       "'theoretical'"
      ]
     },
     "execution_count": 200,
     "metadata": {},
     "output_type": "execute_result"
    }
   ],
   "source": [
    "cv.get_feature_names_out()[4000]"
   ]
  },
  {
   "cell_type": "code",
   "execution_count": 201,
   "metadata": {},
   "outputs": [],
   "source": [
    "import random"
   ]
  },
  {
   "cell_type": "code",
   "execution_count": 202,
   "metadata": {},
   "outputs": [
    {
     "name": "stdout",
     "output_type": "stream",
     "text": [
      "searches\n",
      "affects\n",
      "personal\n",
      "despite\n",
      "meta\n",
      "air\n",
      "leveraging\n",
      "highest\n",
      "right\n",
      "action\n"
     ]
    },
    {
     "name": "stderr",
     "output_type": "stream",
     "text": [
      "C:\\Users\\Dell\\anaconda3\\lib\\site-packages\\sklearn\\utils\\deprecation.py:87: FutureWarning: Function get_feature_names is deprecated; get_feature_names is deprecated in 1.0 and will be removed in 1.2. Please use get_feature_names_out instead.\n",
      "  warnings.warn(msg, category=FutureWarning)\n"
     ]
    }
   ],
   "source": [
    "for i in range(10):\n",
    "    random_word_id = random.randint(0,4359)\n",
    "    print(cv.get_feature_names()[random_word_id])"
   ]
  },
  {
   "cell_type": "code",
   "execution_count": 203,
   "metadata": {},
   "outputs": [
    {
     "data": {
      "text/plain": [
       "4"
      ]
     },
     "execution_count": 203,
     "metadata": {},
     "output_type": "execute_result"
    }
   ],
   "source": [
    "len(LDA.components_)"
   ]
  },
  {
   "cell_type": "code",
   "execution_count": 204,
   "metadata": {},
   "outputs": [
    {
     "data": {
      "text/plain": [
       "array([[ 4.26268042,  0.25048954, 19.92136182, ...,  3.24997122,\n",
       "         2.25000698,  0.25154963],\n",
       "       [ 5.13108789,  5.2496295 ,  2.7063216 , ...,  0.25020295,\n",
       "         0.25000094,  3.24770353],\n",
       "       [ 0.25452411,  0.25000036, 23.24410564, ...,  2.33394598,\n",
       "         1.24999163,  0.25088988],\n",
       "       [ 1.35170758,  1.2498806 ,  4.12821094, ...,  4.16587985,\n",
       "         0.25000044,  2.24985696]])"
      ]
     },
     "execution_count": 204,
     "metadata": {},
     "output_type": "execute_result"
    }
   ],
   "source": [
    "LDA.components_"
   ]
  },
  {
   "cell_type": "code",
   "execution_count": 205,
   "metadata": {},
   "outputs": [
    {
     "data": {
      "text/plain": [
       "(4, 4359)"
      ]
     },
     "execution_count": 205,
     "metadata": {},
     "output_type": "execute_result"
    }
   ],
   "source": [
    "LDA.components_.shape"
   ]
  },
  {
   "cell_type": "code",
   "execution_count": 206,
   "metadata": {},
   "outputs": [],
   "source": [
    "single_topic = LDA.components_[0]"
   ]
  },
  {
   "cell_type": "code",
   "execution_count": 207,
   "metadata": {},
   "outputs": [
    {
     "data": {
      "text/plain": [
       "array([1214, 2754,  536, ..., 3932,  472, 3720], dtype=int64)"
      ]
     },
     "execution_count": 207,
     "metadata": {},
     "output_type": "execute_result"
    }
   ],
   "source": [
    "# Returns the indices that would sort this array.\n",
    "single_topic.argsort()"
   ]
  },
  {
   "cell_type": "code",
   "execution_count": 209,
   "metadata": {},
   "outputs": [
    {
     "data": {
      "text/plain": [
       "0.2500001004297589"
      ]
     },
     "execution_count": 209,
     "metadata": {},
     "output_type": "execute_result"
    }
   ],
   "source": [
    "# Word least representative of this topic\n",
    "single_topic[1214]"
   ]
  },
  {
   "cell_type": "code",
   "execution_count": 211,
   "metadata": {},
   "outputs": [
    {
     "data": {
      "text/plain": [
       "163.81164124387536"
      ]
     },
     "execution_count": 211,
     "metadata": {},
     "output_type": "execute_result"
    }
   ],
   "source": [
    "# Word most representative of this topic\n",
    "single_topic[3720]"
   ]
  },
  {
   "cell_type": "code",
   "execution_count": 212,
   "metadata": {},
   "outputs": [
    {
     "data": {
      "text/plain": [
       "array([ 584, 3484, 4019,  784,  467, 3935, 2742, 3932,  472, 3720],\n",
       "      dtype=int64)"
      ]
     },
     "execution_count": 212,
     "metadata": {},
     "output_type": "execute_result"
    }
   ],
   "source": [
    "# Top 10 words for this topic:\n",
    "single_topic.argsort()[-10:]"
   ]
  },
  {
   "cell_type": "code",
   "execution_count": 213,
   "metadata": {},
   "outputs": [],
   "source": [
    "top_word_indices = single_topic.argsort()[-10:]"
   ]
  },
  {
   "cell_type": "code",
   "execution_count": 214,
   "metadata": {},
   "outputs": [
    {
     "name": "stdout",
     "output_type": "stream",
     "text": [
      "blockchain\n",
      "risk\n",
      "threats\n",
      "cloud\n",
      "attack\n",
      "systems\n",
      "network\n",
      "system\n",
      "attacks\n",
      "smart\n"
     ]
    }
   ],
   "source": [
    "#all documents frequently occured words\n",
    "for index in top_word_indices:\n",
    "    print(cv.get_feature_names()[index])"
   ]
  },
  {
   "cell_type": "code",
   "execution_count": 215,
   "metadata": {},
   "outputs": [
    {
     "name": "stdout",
     "output_type": "stream",
     "text": [
      "THE TOP 15 WORDS FOR TOPIC #0\n",
      "['devices', 'using', 'city', 'iot', 'technology', 'blockchain', 'risk', 'threats', 'cloud', 'attack', 'systems', 'network', 'system', 'attacks', 'smart']\n",
      "\n",
      "\n",
      "THE TOP 15 WORDS FOR TOPIC #1\n",
      "['modeling', 'network', 'model', 'techniques', 'intelligent', 'attack', 'artificial', 'intelligence', 'industrial', 'construction', 'learning', 'ai', 'system', 'attacks', 'systems']\n",
      "\n",
      "\n",
      "THE TOP 15 WORDS FOR TOPIC #2\n",
      "['behavior', 'training', 'different', 'applications', 'robotic', 'study', 'standards', 'knowledge', 'iot', 'network', 'system', 'robots', 'deep', 'systems', 'learning']\n",
      "\n",
      "\n",
      "THE TOP 15 WORDS FOR TOPIC #3\n",
      "['organisations', 'proposed', 'healthcare', 'model', 'users', 'user', 'attack', 'ai', 'smart', 'detection', 'network', 'systems', 'human', 'attacks', 'system']\n",
      "\n",
      "\n"
     ]
    }
   ],
   "source": [
    "for index,topic in enumerate(LDA.components_):\n",
    "    print(f'THE TOP 15 WORDS FOR TOPIC #{index}')\n",
    "    print([cv.get_feature_names()[i] for i in topic.argsort()[-15:]])\n",
    "    print('\\n')"
   ]
  },
  {
   "cell_type": "code",
   "execution_count": 216,
   "metadata": {},
   "outputs": [
    {
     "data": {
      "text/plain": [
       "(44, 4359)"
      ]
     },
     "execution_count": 216,
     "metadata": {},
     "output_type": "execute_result"
    }
   ],
   "source": [
    "dtm.shape"
   ]
  },
  {
   "cell_type": "code",
   "execution_count": 217,
   "metadata": {},
   "outputs": [],
   "source": [
    "topic_results = LDA.transform(dtm)"
   ]
  },
  {
   "cell_type": "code",
   "execution_count": 218,
   "metadata": {},
   "outputs": [
    {
     "data": {
      "text/plain": [
       "(44, 4)"
      ]
     },
     "execution_count": 218,
     "metadata": {},
     "output_type": "execute_result"
    }
   ],
   "source": [
    "topic_results.shape"
   ]
  },
  {
   "cell_type": "code",
   "execution_count": 219,
   "metadata": {},
   "outputs": [
    {
     "data": {
      "text/plain": [
       "array([3.31543893e-01, 3.38803663e-04, 3.35593866e-04, 6.67781709e-01])"
      ]
     },
     "execution_count": 219,
     "metadata": {},
     "output_type": "execute_result"
    }
   ],
   "source": [
    "topic_results[0] #index number of the word"
   ]
  },
  {
   "cell_type": "code",
   "execution_count": 220,
   "metadata": {},
   "outputs": [
    {
     "data": {
      "text/plain": [
       "array([0.33, 0.  , 0.  , 0.67])"
      ]
     },
     "execution_count": 220,
     "metadata": {},
     "output_type": "execute_result"
    }
   ],
   "source": [
    "topic_results[0].round(2)  #which topic has the highest probability for the articles"
   ]
  },
  {
   "cell_type": "code",
   "execution_count": 221,
   "metadata": {},
   "outputs": [
    {
     "data": {
      "text/plain": [
       "3"
      ]
     },
     "execution_count": 221,
     "metadata": {},
     "output_type": "execute_result"
    }
   ],
   "source": [
    "topic_results[0].argmax()"
   ]
  },
  {
   "cell_type": "code",
   "execution_count": 222,
   "metadata": {},
   "outputs": [
    {
     "data": {
      "text/html": [
       "<div>\n",
       "<style scoped>\n",
       "    .dataframe tbody tr th:only-of-type {\n",
       "        vertical-align: middle;\n",
       "    }\n",
       "\n",
       "    .dataframe tbody tr th {\n",
       "        vertical-align: top;\n",
       "    }\n",
       "\n",
       "    .dataframe thead th {\n",
       "        text-align: right;\n",
       "    }\n",
       "</style>\n",
       "<table border=\"1\" class=\"dataframe\">\n",
       "  <thead>\n",
       "    <tr style=\"text-align: right;\">\n",
       "      <th></th>\n",
       "      <th>Article</th>\n",
       "      <th>Topic</th>\n",
       "    </tr>\n",
       "  </thead>\n",
       "  <tbody>\n",
       "    <tr>\n",
       "      <th>0</th>\n",
       "      <td>The integration of computing and communication...</td>\n",
       "      <td>0</td>\n",
       "    </tr>\n",
       "    <tr>\n",
       "      <th>1</th>\n",
       "      <td>There is a wealth of information security guid...</td>\n",
       "      <td>0</td>\n",
       "    </tr>\n",
       "    <tr>\n",
       "      <th>2</th>\n",
       "      <td>In recent times, there have been attempts to l...</td>\n",
       "      <td>3</td>\n",
       "    </tr>\n",
       "    <tr>\n",
       "      <th>3</th>\n",
       "      <td>The recent digital revolution led robots to be...</td>\n",
       "      <td>1</td>\n",
       "    </tr>\n",
       "    <tr>\n",
       "      <th>4</th>\n",
       "      <td>Deep learning derived from an artificial neura...</td>\n",
       "      <td>1</td>\n",
       "    </tr>\n",
       "    <tr>\n",
       "      <th>5</th>\n",
       "      <td>To combat cyber threats in the smart grid, an ...</td>\n",
       "      <td>0</td>\n",
       "    </tr>\n",
       "    <tr>\n",
       "      <th>6</th>\n",
       "      <td>We live in a time when data security has becom...</td>\n",
       "      <td>0</td>\n",
       "    </tr>\n",
       "    <tr>\n",
       "      <th>7</th>\n",
       "      <td>At present, most of the economic, commercial, ...</td>\n",
       "      <td>2</td>\n",
       "    </tr>\n",
       "    <tr>\n",
       "      <th>8</th>\n",
       "      <td>Cybersecurity is increasingly becoming a promi...</td>\n",
       "      <td>4</td>\n",
       "    </tr>\n",
       "    <tr>\n",
       "      <th>9</th>\n",
       "      <td>The aim of the researcher was to determine the...</td>\n",
       "      <td>4</td>\n",
       "    </tr>\n",
       "  </tbody>\n",
       "</table>\n",
       "</div>"
      ],
      "text/plain": [
       "                                             Article  Topic\n",
       "0  The integration of computing and communication...      0\n",
       "1  There is a wealth of information security guid...      0\n",
       "2  In recent times, there have been attempts to l...      3\n",
       "3  The recent digital revolution led robots to be...      1\n",
       "4  Deep learning derived from an artificial neura...      1\n",
       "5  To combat cyber threats in the smart grid, an ...      0\n",
       "6  We live in a time when data security has becom...      0\n",
       "7  At present, most of the economic, commercial, ...      2\n",
       "8  Cybersecurity is increasingly becoming a promi...      4\n",
       "9  The aim of the researcher was to determine the...      4"
      ]
     },
     "execution_count": 222,
     "metadata": {},
     "output_type": "execute_result"
    }
   ],
   "source": [
    "df.head(10)"
   ]
  },
  {
   "cell_type": "code",
   "execution_count": 223,
   "metadata": {},
   "outputs": [
    {
     "data": {
      "text/plain": [
       "array([3, 2, 3, 2, 2, 3, 0, 0, 3, 1, 1, 0, 3, 1, 2, 3, 2, 0, 3, 2, 0, 0,\n",
       "       2, 3, 3, 1, 0, 1, 2, 1, 3, 0, 3, 2, 0, 2, 1, 0, 0, 2, 0, 2, 2, 3],\n",
       "      dtype=int64)"
      ]
     },
     "execution_count": 223,
     "metadata": {},
     "output_type": "execute_result"
    }
   ],
   "source": [
    "topic_results.argmax(axis=1)"
   ]
  },
  {
   "cell_type": "code",
   "execution_count": 224,
   "metadata": {},
   "outputs": [],
   "source": [
    "df['Topic'] = topic_results.argmax(axis=1)"
   ]
  },
  {
   "cell_type": "code",
   "execution_count": 225,
   "metadata": {},
   "outputs": [
    {
     "data": {
      "text/html": [
       "<div>\n",
       "<style scoped>\n",
       "    .dataframe tbody tr th:only-of-type {\n",
       "        vertical-align: middle;\n",
       "    }\n",
       "\n",
       "    .dataframe tbody tr th {\n",
       "        vertical-align: top;\n",
       "    }\n",
       "\n",
       "    .dataframe thead th {\n",
       "        text-align: right;\n",
       "    }\n",
       "</style>\n",
       "<table border=\"1\" class=\"dataframe\">\n",
       "  <thead>\n",
       "    <tr style=\"text-align: right;\">\n",
       "      <th></th>\n",
       "      <th>Article</th>\n",
       "      <th>Topic</th>\n",
       "    </tr>\n",
       "  </thead>\n",
       "  <tbody>\n",
       "    <tr>\n",
       "      <th>0</th>\n",
       "      <td>The integration of computing and communication...</td>\n",
       "      <td>3</td>\n",
       "    </tr>\n",
       "    <tr>\n",
       "      <th>1</th>\n",
       "      <td>There is a wealth of information security guid...</td>\n",
       "      <td>2</td>\n",
       "    </tr>\n",
       "    <tr>\n",
       "      <th>2</th>\n",
       "      <td>In recent times, there have been attempts to l...</td>\n",
       "      <td>3</td>\n",
       "    </tr>\n",
       "    <tr>\n",
       "      <th>3</th>\n",
       "      <td>The recent digital revolution led robots to be...</td>\n",
       "      <td>2</td>\n",
       "    </tr>\n",
       "    <tr>\n",
       "      <th>4</th>\n",
       "      <td>Deep learning derived from an artificial neura...</td>\n",
       "      <td>2</td>\n",
       "    </tr>\n",
       "    <tr>\n",
       "      <th>5</th>\n",
       "      <td>To combat cyber threats in the smart grid, an ...</td>\n",
       "      <td>3</td>\n",
       "    </tr>\n",
       "    <tr>\n",
       "      <th>6</th>\n",
       "      <td>We live in a time when data security has becom...</td>\n",
       "      <td>0</td>\n",
       "    </tr>\n",
       "    <tr>\n",
       "      <th>7</th>\n",
       "      <td>At present, most of the economic, commercial, ...</td>\n",
       "      <td>0</td>\n",
       "    </tr>\n",
       "    <tr>\n",
       "      <th>8</th>\n",
       "      <td>Cybersecurity is increasingly becoming a promi...</td>\n",
       "      <td>3</td>\n",
       "    </tr>\n",
       "    <tr>\n",
       "      <th>9</th>\n",
       "      <td>The aim of the researcher was to determine the...</td>\n",
       "      <td>1</td>\n",
       "    </tr>\n",
       "  </tbody>\n",
       "</table>\n",
       "</div>"
      ],
      "text/plain": [
       "                                             Article  Topic\n",
       "0  The integration of computing and communication...      3\n",
       "1  There is a wealth of information security guid...      2\n",
       "2  In recent times, there have been attempts to l...      3\n",
       "3  The recent digital revolution led robots to be...      2\n",
       "4  Deep learning derived from an artificial neura...      2\n",
       "5  To combat cyber threats in the smart grid, an ...      3\n",
       "6  We live in a time when data security has becom...      0\n",
       "7  At present, most of the economic, commercial, ...      0\n",
       "8  Cybersecurity is increasingly becoming a promi...      3\n",
       "9  The aim of the researcher was to determine the...      1"
      ]
     },
     "execution_count": 225,
     "metadata": {},
     "output_type": "execute_result"
    }
   ],
   "source": [
    "df.head(10)"
   ]
  },
  {
   "cell_type": "markdown",
   "metadata": {},
   "source": [
    "# THANK YOU!"
   ]
  }
 ],
 "metadata": {
  "kernelspec": {
   "display_name": "Python 3 (ipykernel)",
   "language": "python",
   "name": "python3"
  },
  "language_info": {
   "codemirror_mode": {
    "name": "ipython",
    "version": 3
   },
   "file_extension": ".py",
   "mimetype": "text/x-python",
   "name": "python",
   "nbconvert_exporter": "python",
   "pygments_lexer": "ipython3",
   "version": "3.9.13"
  }
 },
 "nbformat": 4,
 "nbformat_minor": 4
}
